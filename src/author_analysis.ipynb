{
 "cells": [
  {
   "cell_type": "markdown",
   "metadata": {},
   "source": [
    "# Author analysis\n"
   ]
  },
  {
   "cell_type": "code",
   "execution_count": 40,
   "metadata": {},
   "outputs": [],
   "source": [
    "import re\n",
    "import pandas as pd\n",
    "import matplotlib.pyplot as plt\n",
    "\n",
    "DATA_FOLDER = \"../data/\""
   ]
  },
  {
   "cell_type": "code",
   "execution_count": 41,
   "metadata": {},
   "outputs": [],
   "source": [
    "articles = pd.read_json(DATA_FOLDER + \"filtered.jsonl\", lines=True)"
   ]
  },
  {
   "cell_type": "code",
   "execution_count": 42,
   "metadata": {},
   "outputs": [
    {
     "data": {
      "text/html": [
       "<div>\n",
       "<style scoped>\n",
       "    .dataframe tbody tr th:only-of-type {\n",
       "        vertical-align: middle;\n",
       "    }\n",
       "\n",
       "    .dataframe tbody tr th {\n",
       "        vertical-align: top;\n",
       "    }\n",
       "\n",
       "    .dataframe thead th {\n",
       "        text-align: right;\n",
       "    }\n",
       "</style>\n",
       "<table border=\"1\" class=\"dataframe\">\n",
       "  <thead>\n",
       "    <tr style=\"text-align: right;\">\n",
       "      <th></th>\n",
       "      <th>date</th>\n",
       "      <th>fulltext</th>\n",
       "      <th>id</th>\n",
       "      <th>pages</th>\n",
       "      <th>title</th>\n",
       "      <th>type</th>\n",
       "    </tr>\n",
       "  </thead>\n",
       "  <tbody>\n",
       "    <tr>\n",
       "      <th>0</th>\n",
       "      <td>1900-10-15</td>\n",
       "      <td>CONFÉDÉRATION S 01 SSE Militaire. — Le départe...</td>\n",
       "      <td>GDL-1900-10-15-a-i0014</td>\n",
       "      <td>[2]</td>\n",
       "      <td>CONFÉDÉRATION S01SSE</td>\n",
       "      <td>ar</td>\n",
       "    </tr>\n",
       "    <tr>\n",
       "      <th>1</th>\n",
       "      <td>1900-02-03</td>\n",
       "      <td>CONFÉDÉRATION SOISSE Nominations. — Le Conseil...</td>\n",
       "      <td>GDL-1900-02-03-a-i0013</td>\n",
       "      <td>[2]</td>\n",
       "      <td>CONFÉDÉRATION SOISSE</td>\n",
       "      <td>ar</td>\n",
       "    </tr>\n",
       "    <tr>\n",
       "      <th>2</th>\n",
       "      <td>1900-08-06</td>\n",
       "      <td>CONFÉDÉRATION SUISSE Drainage des écus. — D'ap...</td>\n",
       "      <td>GDL-1900-08-06-a-i0014</td>\n",
       "      <td>[2]</td>\n",
       "      <td>CONFÉDÉRATION SUISSE</td>\n",
       "      <td>ar</td>\n",
       "    </tr>\n",
       "    <tr>\n",
       "      <th>3</th>\n",
       "      <td>1900-02-15</td>\n",
       "      <td>Le drainage des éens. Genève, 14 février. Lund...</td>\n",
       "      <td>GDL-1900-02-15-a-i0006</td>\n",
       "      <td>[1]</td>\n",
       "      <td>Le drainage des éens.</td>\n",
       "      <td>ar</td>\n",
       "    </tr>\n",
       "    <tr>\n",
       "      <th>4</th>\n",
       "      <td>1900-06-11</td>\n",
       "      <td>CONFÉDÉRATION SOISS Sonnerie de cloches. — Le ...</td>\n",
       "      <td>GDL-1900-06-11-a-i0015</td>\n",
       "      <td>[2]</td>\n",
       "      <td>CONFÉDÉRATION SOISS</td>\n",
       "      <td>ar</td>\n",
       "    </tr>\n",
       "    <tr>\n",
       "      <th>5</th>\n",
       "      <td>1900-05-25</td>\n",
       "      <td>CONFÉDÉRATION SUISSE Expulsions. — Le Conseil ...</td>\n",
       "      <td>GDL-1900-05-25-a-i0010</td>\n",
       "      <td>[2]</td>\n",
       "      <td>CONFÉDÉRATION SUISSE</td>\n",
       "      <td>ar</td>\n",
       "    </tr>\n",
       "    <tr>\n",
       "      <th>6</th>\n",
       "      <td>1900-05-26</td>\n",
       "      <td>BULLETIN POLITIQUE Lausanne, 26 mai 1900. lie ...</td>\n",
       "      <td>GDL-1900-05-26-a-i0002</td>\n",
       "      <td>[1]</td>\n",
       "      <td>BULLETIN POLITIQUE</td>\n",
       "      <td>ar</td>\n",
       "    </tr>\n",
       "    <tr>\n",
       "      <th>7</th>\n",
       "      <td>1900-09-08</td>\n",
       "      <td>KOUVELiES DES CANTONS BERNE. — L'institut vacc...</td>\n",
       "      <td>GDL-1900-09-08-a-i0016</td>\n",
       "      <td>[2]</td>\n",
       "      <td>KOUVELiES DES CANTONS</td>\n",
       "      <td>ar</td>\n",
       "    </tr>\n",
       "    <tr>\n",
       "      <th>8</th>\n",
       "      <td>1900-11-22</td>\n",
       "      <td>CONFÉDÉRATION SUISSE Budget. — La commission d...</td>\n",
       "      <td>GDL-1900-11-22-a-i0013</td>\n",
       "      <td>[2]</td>\n",
       "      <td>CONFÉDÉRATION SUISSE</td>\n",
       "      <td>ar</td>\n",
       "    </tr>\n",
       "    <tr>\n",
       "      <th>9</th>\n",
       "      <td>1900-11-24</td>\n",
       "      <td>CONFÉDÉRATION SUISSE Chemins de fer. — Le Cons...</td>\n",
       "      <td>GDL-1900-11-24-a-i0015</td>\n",
       "      <td>[2]</td>\n",
       "      <td>CONFÉDÉRATION SUISSE Chemins de fer. — Le Cons...</td>\n",
       "      <td>ar</td>\n",
       "    </tr>\n",
       "  </tbody>\n",
       "</table>\n",
       "</div>"
      ],
      "text/plain": [
       "        date                                           fulltext  \\\n",
       "0 1900-10-15  CONFÉDÉRATION S 01 SSE Militaire. — Le départe...   \n",
       "1 1900-02-03  CONFÉDÉRATION SOISSE Nominations. — Le Conseil...   \n",
       "2 1900-08-06  CONFÉDÉRATION SUISSE Drainage des écus. — D'ap...   \n",
       "3 1900-02-15  Le drainage des éens. Genève, 14 février. Lund...   \n",
       "4 1900-06-11  CONFÉDÉRATION SOISS Sonnerie de cloches. — Le ...   \n",
       "5 1900-05-25  CONFÉDÉRATION SUISSE Expulsions. — Le Conseil ...   \n",
       "6 1900-05-26  BULLETIN POLITIQUE Lausanne, 26 mai 1900. lie ...   \n",
       "7 1900-09-08  KOUVELiES DES CANTONS BERNE. — L'institut vacc...   \n",
       "8 1900-11-22  CONFÉDÉRATION SUISSE Budget. — La commission d...   \n",
       "9 1900-11-24  CONFÉDÉRATION SUISSE Chemins de fer. — Le Cons...   \n",
       "\n",
       "                       id pages  \\\n",
       "0  GDL-1900-10-15-a-i0014   [2]   \n",
       "1  GDL-1900-02-03-a-i0013   [2]   \n",
       "2  GDL-1900-08-06-a-i0014   [2]   \n",
       "3  GDL-1900-02-15-a-i0006   [1]   \n",
       "4  GDL-1900-06-11-a-i0015   [2]   \n",
       "5  GDL-1900-05-25-a-i0010   [2]   \n",
       "6  GDL-1900-05-26-a-i0002   [1]   \n",
       "7  GDL-1900-09-08-a-i0016   [2]   \n",
       "8  GDL-1900-11-22-a-i0013   [2]   \n",
       "9  GDL-1900-11-24-a-i0015   [2]   \n",
       "\n",
       "                                               title type  \n",
       "0                               CONFÉDÉRATION S01SSE   ar  \n",
       "1                               CONFÉDÉRATION SOISSE   ar  \n",
       "2                               CONFÉDÉRATION SUISSE   ar  \n",
       "3                              Le drainage des éens.   ar  \n",
       "4                                CONFÉDÉRATION SOISS   ar  \n",
       "5                               CONFÉDÉRATION SUISSE   ar  \n",
       "6                                 BULLETIN POLITIQUE   ar  \n",
       "7                              KOUVELiES DES CANTONS   ar  \n",
       "8                               CONFÉDÉRATION SUISSE   ar  \n",
       "9  CONFÉDÉRATION SUISSE Chemins de fer. — Le Cons...   ar  "
      ]
     },
     "execution_count": 42,
     "metadata": {},
     "output_type": "execute_result"
    }
   ],
   "source": [
    "articles.head(10)"
   ]
  },
  {
   "cell_type": "code",
   "execution_count": 43,
   "metadata": {},
   "outputs": [
    {
     "data": {
      "text/plain": [
       "34582"
      ]
     },
     "execution_count": 43,
     "metadata": {},
     "output_type": "execute_result"
    }
   ],
   "source": [
    "len(articles)"
   ]
  },
  {
   "cell_type": "markdown",
   "metadata": {},
   "source": [
    "## Different types of authors\n",
    "\n",
    "#### Agencies\n",
    "\n",
    "- **ATS** Agence télégraphique suisse"
   ]
  },
  {
   "cell_type": "code",
   "execution_count": 163,
   "metadata": {
    "scrolled": true
   },
   "outputs": [
    {
     "data": {
      "text/plain": [
       "5269"
      ]
     },
     "execution_count": 163,
     "metadata": {},
     "output_type": "execute_result"
    }
   ],
   "source": [
    "ats_indexes = articles.fulltext.str.contains(\"\\([A|a][t|T][s|S]\\)\")\n",
    "ats_indexes.sum()"
   ]
  },
  {
   "cell_type": "markdown",
   "metadata": {},
   "source": [
    "\n",
    "- **AFP** Agence France-Presse"
   ]
  },
  {
   "cell_type": "code",
   "execution_count": 164,
   "metadata": {},
   "outputs": [
    {
     "data": {
      "text/plain": [
       "1740"
      ]
     },
     "execution_count": 164,
     "metadata": {},
     "output_type": "execute_result"
    }
   ],
   "source": [
    "afp_indexes = articles.fulltext.str.contains(\"\\(AFP\\)\")\n",
    "afp_indexes.sum()"
   ]
  },
  {
   "cell_type": "code",
   "execution_count": 165,
   "metadata": {},
   "outputs": [
    {
     "data": {
      "text/plain": [
       "860"
      ]
     },
     "execution_count": 165,
     "metadata": {},
     "output_type": "execute_result"
    }
   ],
   "source": [
    "(ats_indexes & afp_indexes).sum()"
   ]
  },
  {
   "cell_type": "markdown",
   "metadata": {},
   "source": [
    "#### Authors"
   ]
  },
  {
   "cell_type": "code",
   "execution_count": 166,
   "metadata": {
    "scrolled": true
   },
   "outputs": [
    {
     "data": {
      "text/plain": [
       "'MARCHÉ DES CAPITAUX Syndicats d\\'émissions : les grandes banques libéralisent ,.\\'-il. : L\\'. ,.... „, ; ,. : .,, (. 1 \\'\" Les trois grandes banques suisses ont annonce mercredi qu\\'elles s\\'apprêtaient à ouvrir sous certaines conditions, leur syndicat d\\'émission d\\'emprunts sur le marché suisse des capitaux, à des émissions dirigées par des banques étrangères établies en Suisse. Des détails sur cène mesure de libéralisation, qui répond à l\\'internationalisation croissante du marché des capitaux, seront gués ultérieurement, ont annoncé les trois grandes banques (UBS, Crédit Suisse et SBS) dans un communiqué. J .-L. L. '"
      ]
     },
     "execution_count": 166,
     "metadata": {},
     "output_type": "execute_result"
    }
   ],
   "source": [
    "fulltext = articles[articles.id.str.contains(\"JDG-1987-08-13\")].iloc[0].fulltext\n",
    "fulltext"
   ]
  },
  {
   "cell_type": "code",
   "execution_count": 129,
   "metadata": {},
   "outputs": [
    {
     "data": {
      "text/plain": [
       "<_sre.SRE_Match object; span=(596, 618), match='communiqué. J .-L. L. '>"
      ]
     },
     "execution_count": 129,
     "metadata": {},
     "output_type": "execute_result"
    }
   ],
   "source": [
    "initials_pattern = r\"\\w{2,}\\s*\\.\\s*((\\s*\\-?\\w\\s*\\.\\s*){2,4})$\"\n",
    "re.search(initials_pattern, fulltext)"
   ]
  },
  {
   "cell_type": "code",
   "execution_count": 131,
   "metadata": {},
   "outputs": [],
   "source": [
    "initials_matches = articles.fulltext.str.extract(initials_pattern).dropna()"
   ]
  },
  {
   "cell_type": "code",
   "execution_count": 160,
   "metadata": {},
   "outputs": [
    {
     "data": {
      "text/plain": [
       "913"
      ]
     },
     "execution_count": 160,
     "metadata": {},
     "output_type": "execute_result"
    }
   ],
   "source": [
    "initials_indexes = articles.index.isin(initials_matches.index)\n",
    "len(initials_matches)"
   ]
  },
  {
   "cell_type": "code",
   "execution_count": 161,
   "metadata": {},
   "outputs": [
    {
     "data": {
      "text/plain": [
       "J.-L.L.    154\n",
       "F.L.       135\n",
       "J.R.        34\n",
       "G.R.        30\n",
       "S.A.        28\n",
       "H.V.        24\n",
       "A.K.        23\n",
       "J.-S.E.     19\n",
       "A.V.        19\n",
       "M.-J.K.     18\n",
       "V.S.        17\n",
       "P.N.        17\n",
       "R.-F.P.     16\n",
       "A.-M.L.     15\n",
       "D.-S.M.     14\n",
       "P.G.        13\n",
       "H.S.        11\n",
       "G.D.        11\n",
       "F.W.        11\n",
       "P.H.        10\n",
       "M.K.        10\n",
       "W.P.        10\n",
       "G.P.        10\n",
       "G.L.         9\n",
       "E.B.S.       8\n",
       "P.-A.S.      8\n",
       "M.V.H.       8\n",
       "M.S.         7\n",
       "G.M.         6\n",
       "M.C.V.       5\n",
       "          ... \n",
       "9.6.0.       1\n",
       "L.M.S.       1\n",
       "J.-D.C.      1\n",
       "Q.M.         1\n",
       "A.M.         1\n",
       "A.W.         1\n",
       "P.E.         1\n",
       "H.F.P.       1\n",
       "S.I.A.       1\n",
       "J.D.         1\n",
       "R.D.         1\n",
       "P.T.         1\n",
       "M.V.         1\n",
       "M.F.         1\n",
       "J.F.         1\n",
       "7.-L.L.      1\n",
       "9.9.0.       1\n",
       "M.B.         1\n",
       "F.J.         1\n",
       "J.-P.G.      1\n",
       "G.Y.         1\n",
       "R.R.         1\n",
       "L.-L.L.      1\n",
       "G.J.         1\n",
       "C.R.         1\n",
       "F.Y.         1\n",
       "F.L.B.       1\n",
       "-H.P.        1\n",
       "H.-C.T.      1\n",
       "A.E.         1\n",
       "Name: 0, Length: 161, dtype: int64"
      ]
     },
     "execution_count": 161,
     "metadata": {},
     "output_type": "execute_result"
    }
   ],
   "source": [
    "initials_matches[0].apply(lambda s: s.upper().replace(\" \", \"\")).value_counts()"
   ]
  },
  {
   "cell_type": "code",
   "execution_count": 162,
   "metadata": {},
   "outputs": [
    {
     "data": {
      "text/plain": [
       "19"
      ]
     },
     "execution_count": 162,
     "metadata": {},
     "output_type": "execute_result"
    }
   ],
   "source": [
    "(initials_indexes & (ats_indexes | afp_indexes)).sum()"
   ]
  },
  {
   "cell_type": "markdown",
   "metadata": {},
   "source": [
    "#### Rédaction"
   ]
  },
  {
   "cell_type": "code",
   "execution_count": 176,
   "metadata": {},
   "outputs": [
    {
     "data": {
      "text/plain": [
       "261"
      ]
     },
     "execution_count": 176,
     "metadata": {},
     "output_type": "execute_result"
    }
   ],
   "source": [
    "red_indexes = articles.fulltext.str.contains(\"\\([R|r][é|e]d\\.?\\)\")\n",
    "red_indexes.sum()"
   ]
  },
  {
   "cell_type": "code",
   "execution_count": 179,
   "metadata": {},
   "outputs": [
    {
     "data": {
      "text/plain": [
       "103"
      ]
     },
     "execution_count": 179,
     "metadata": {},
     "output_type": "execute_result"
    }
   ],
   "source": [
    "(red_indexes & (ats_indexes | afp_indexes | initials_indexes)).sum()"
   ]
  },
  {
   "cell_type": "markdown",
   "metadata": {},
   "source": [
    "--> too much overlap!"
   ]
  }
 ],
 "metadata": {
  "kernelspec": {
   "display_name": "Python 3",
   "language": "python",
   "name": "python3"
  },
  "language_info": {
   "codemirror_mode": {
    "name": "ipython",
    "version": 3
   },
   "file_extension": ".py",
   "mimetype": "text/x-python",
   "name": "python",
   "nbconvert_exporter": "python",
   "pygments_lexer": "ipython3",
   "version": "3.6.8"
  }
 },
 "nbformat": 4,
 "nbformat_minor": 2
}
