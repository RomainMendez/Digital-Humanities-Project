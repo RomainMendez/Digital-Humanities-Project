{
 "cells": [
  {
   "cell_type": "markdown",
   "metadata": {},
   "source": [
    "# Author analysis\n"
   ]
  },
  {
   "cell_type": "code",
   "execution_count": 41,
   "metadata": {},
   "outputs": [
    {
     "name": "stdout",
     "output_type": "stream",
     "text": [
      "The blackcellmagic extension is already loaded. To reload it, use:\n",
      "  %reload_ext blackcellmagic\n"
     ]
    }
   ],
   "source": [
    "import re\n",
    "import pandas as pd\n",
    "import matplotlib.pyplot as plt\n",
    "%config InlineBackend.figure_format = 'retina'\n",
    "\n",
    "DATA_FOLDER = \"../data/\"\n",
    "\n",
    "%load_ext blackcellmagic"
   ]
  },
  {
   "cell_type": "code",
   "execution_count": 2,
   "metadata": {},
   "outputs": [],
   "source": [
    "articles = pd.read_json(DATA_FOLDER + \"filtered.jsonl\", lines=True)"
   ]
  },
  {
   "cell_type": "code",
   "execution_count": 3,
   "metadata": {
    "scrolled": false
   },
   "outputs": [
    {
     "data": {
      "text/html": [
       "<div>\n",
       "<style scoped>\n",
       "    .dataframe tbody tr th:only-of-type {\n",
       "        vertical-align: middle;\n",
       "    }\n",
       "\n",
       "    .dataframe tbody tr th {\n",
       "        vertical-align: top;\n",
       "    }\n",
       "\n",
       "    .dataframe thead th {\n",
       "        text-align: right;\n",
       "    }\n",
       "</style>\n",
       "<table border=\"1\" class=\"dataframe\">\n",
       "  <thead>\n",
       "    <tr style=\"text-align: right;\">\n",
       "      <th></th>\n",
       "      <th>date</th>\n",
       "      <th>fulltext</th>\n",
       "      <th>id</th>\n",
       "      <th>pages</th>\n",
       "      <th>title</th>\n",
       "      <th>type</th>\n",
       "    </tr>\n",
       "  </thead>\n",
       "  <tbody>\n",
       "    <tr>\n",
       "      <th>0</th>\n",
       "      <td>1900-10-15</td>\n",
       "      <td>CONFÉDÉRATION S 01 SSE Militaire. — Le départe...</td>\n",
       "      <td>GDL-1900-10-15-a-i0014</td>\n",
       "      <td>[2]</td>\n",
       "      <td>CONFÉDÉRATION S01SSE</td>\n",
       "      <td>ar</td>\n",
       "    </tr>\n",
       "    <tr>\n",
       "      <th>1</th>\n",
       "      <td>1900-02-03</td>\n",
       "      <td>CONFÉDÉRATION SOISSE Nominations. — Le Conseil...</td>\n",
       "      <td>GDL-1900-02-03-a-i0013</td>\n",
       "      <td>[2]</td>\n",
       "      <td>CONFÉDÉRATION SOISSE</td>\n",
       "      <td>ar</td>\n",
       "    </tr>\n",
       "    <tr>\n",
       "      <th>2</th>\n",
       "      <td>1900-08-06</td>\n",
       "      <td>CONFÉDÉRATION SUISSE Drainage des écus. — D'ap...</td>\n",
       "      <td>GDL-1900-08-06-a-i0014</td>\n",
       "      <td>[2]</td>\n",
       "      <td>CONFÉDÉRATION SUISSE</td>\n",
       "      <td>ar</td>\n",
       "    </tr>\n",
       "    <tr>\n",
       "      <th>3</th>\n",
       "      <td>1900-02-15</td>\n",
       "      <td>Le drainage des éens. Genève, 14 février. Lund...</td>\n",
       "      <td>GDL-1900-02-15-a-i0006</td>\n",
       "      <td>[1]</td>\n",
       "      <td>Le drainage des éens.</td>\n",
       "      <td>ar</td>\n",
       "    </tr>\n",
       "    <tr>\n",
       "      <th>4</th>\n",
       "      <td>1900-06-11</td>\n",
       "      <td>CONFÉDÉRATION SOISS Sonnerie de cloches. — Le ...</td>\n",
       "      <td>GDL-1900-06-11-a-i0015</td>\n",
       "      <td>[2]</td>\n",
       "      <td>CONFÉDÉRATION SOISS</td>\n",
       "      <td>ar</td>\n",
       "    </tr>\n",
       "    <tr>\n",
       "      <th>5</th>\n",
       "      <td>1900-05-25</td>\n",
       "      <td>CONFÉDÉRATION SUISSE Expulsions. — Le Conseil ...</td>\n",
       "      <td>GDL-1900-05-25-a-i0010</td>\n",
       "      <td>[2]</td>\n",
       "      <td>CONFÉDÉRATION SUISSE</td>\n",
       "      <td>ar</td>\n",
       "    </tr>\n",
       "    <tr>\n",
       "      <th>6</th>\n",
       "      <td>1900-05-26</td>\n",
       "      <td>BULLETIN POLITIQUE Lausanne, 26 mai 1900. lie ...</td>\n",
       "      <td>GDL-1900-05-26-a-i0002</td>\n",
       "      <td>[1]</td>\n",
       "      <td>BULLETIN POLITIQUE</td>\n",
       "      <td>ar</td>\n",
       "    </tr>\n",
       "    <tr>\n",
       "      <th>7</th>\n",
       "      <td>1900-09-08</td>\n",
       "      <td>KOUVELiES DES CANTONS BERNE. — L'institut vacc...</td>\n",
       "      <td>GDL-1900-09-08-a-i0016</td>\n",
       "      <td>[2]</td>\n",
       "      <td>KOUVELiES DES CANTONS</td>\n",
       "      <td>ar</td>\n",
       "    </tr>\n",
       "    <tr>\n",
       "      <th>8</th>\n",
       "      <td>1900-11-22</td>\n",
       "      <td>CONFÉDÉRATION SUISSE Budget. — La commission d...</td>\n",
       "      <td>GDL-1900-11-22-a-i0013</td>\n",
       "      <td>[2]</td>\n",
       "      <td>CONFÉDÉRATION SUISSE</td>\n",
       "      <td>ar</td>\n",
       "    </tr>\n",
       "    <tr>\n",
       "      <th>9</th>\n",
       "      <td>1900-11-24</td>\n",
       "      <td>CONFÉDÉRATION SUISSE Chemins de fer. — Le Cons...</td>\n",
       "      <td>GDL-1900-11-24-a-i0015</td>\n",
       "      <td>[2]</td>\n",
       "      <td>CONFÉDÉRATION SUISSE Chemins de fer. — Le Cons...</td>\n",
       "      <td>ar</td>\n",
       "    </tr>\n",
       "  </tbody>\n",
       "</table>\n",
       "</div>"
      ],
      "text/plain": [
       "        date                                           fulltext  \\\n",
       "0 1900-10-15  CONFÉDÉRATION S 01 SSE Militaire. — Le départe...   \n",
       "1 1900-02-03  CONFÉDÉRATION SOISSE Nominations. — Le Conseil...   \n",
       "2 1900-08-06  CONFÉDÉRATION SUISSE Drainage des écus. — D'ap...   \n",
       "3 1900-02-15  Le drainage des éens. Genève, 14 février. Lund...   \n",
       "4 1900-06-11  CONFÉDÉRATION SOISS Sonnerie de cloches. — Le ...   \n",
       "5 1900-05-25  CONFÉDÉRATION SUISSE Expulsions. — Le Conseil ...   \n",
       "6 1900-05-26  BULLETIN POLITIQUE Lausanne, 26 mai 1900. lie ...   \n",
       "7 1900-09-08  KOUVELiES DES CANTONS BERNE. — L'institut vacc...   \n",
       "8 1900-11-22  CONFÉDÉRATION SUISSE Budget. — La commission d...   \n",
       "9 1900-11-24  CONFÉDÉRATION SUISSE Chemins de fer. — Le Cons...   \n",
       "\n",
       "                       id pages  \\\n",
       "0  GDL-1900-10-15-a-i0014   [2]   \n",
       "1  GDL-1900-02-03-a-i0013   [2]   \n",
       "2  GDL-1900-08-06-a-i0014   [2]   \n",
       "3  GDL-1900-02-15-a-i0006   [1]   \n",
       "4  GDL-1900-06-11-a-i0015   [2]   \n",
       "5  GDL-1900-05-25-a-i0010   [2]   \n",
       "6  GDL-1900-05-26-a-i0002   [1]   \n",
       "7  GDL-1900-09-08-a-i0016   [2]   \n",
       "8  GDL-1900-11-22-a-i0013   [2]   \n",
       "9  GDL-1900-11-24-a-i0015   [2]   \n",
       "\n",
       "                                               title type  \n",
       "0                               CONFÉDÉRATION S01SSE   ar  \n",
       "1                               CONFÉDÉRATION SOISSE   ar  \n",
       "2                               CONFÉDÉRATION SUISSE   ar  \n",
       "3                              Le drainage des éens.   ar  \n",
       "4                                CONFÉDÉRATION SOISS   ar  \n",
       "5                               CONFÉDÉRATION SUISSE   ar  \n",
       "6                                 BULLETIN POLITIQUE   ar  \n",
       "7                              KOUVELiES DES CANTONS   ar  \n",
       "8                               CONFÉDÉRATION SUISSE   ar  \n",
       "9  CONFÉDÉRATION SUISSE Chemins de fer. — Le Cons...   ar  "
      ]
     },
     "execution_count": 3,
     "metadata": {},
     "output_type": "execute_result"
    }
   ],
   "source": [
    "articles.head(10)"
   ]
  },
  {
   "cell_type": "code",
   "execution_count": 4,
   "metadata": {},
   "outputs": [
    {
     "data": {
      "text/plain": [
       "34582"
      ]
     },
     "execution_count": 4,
     "metadata": {},
     "output_type": "execute_result"
    }
   ],
   "source": [
    "len(articles)"
   ]
  },
  {
   "cell_type": "code",
   "execution_count": 5,
   "metadata": {},
   "outputs": [
    {
     "name": "stdout",
     "output_type": "stream",
     "text": [
      "JDG:  13487 \n",
      "GDL:  21095\n"
     ]
    }
   ],
   "source": [
    "jdg_indexes = articles.id.str.contains(\"JDG\")\n",
    "gdl_indexes = articles.id.str.contains(\"GDL\")\n",
    "\n",
    "print(\n",
    "    \"JDG: \",\n",
    "    jdg_indexes.sum(),\n",
    "    \"\\nGDL: \",\n",
    "    gdl_indexes.sum()\n",
    ")"
   ]
  },
  {
   "cell_type": "code",
   "execution_count": 6,
   "metadata": {},
   "outputs": [
    {
     "data": {
      "text/plain": [
       "1737"
      ]
     },
     "execution_count": 6,
     "metadata": {},
     "output_type": "execute_result"
    }
   ],
   "source": [
    "banking_indexes =  articles.fulltext.str.lower().str.contains(\"secret bancaire\")\n",
    "banking_indexes.sum()"
   ]
  },
  {
   "cell_type": "markdown",
   "metadata": {},
   "source": [
    "## Different types of authors\n",
    "\n",
    "#### Agencies\n",
    "\n",
    "- **ATS** Agence télégraphique suisse\n",
    "- **AFP** Agence France-Presse\n",
    "- **Reuters** \n",
    "- **AP**: Associated press"
   ]
  },
  {
   "cell_type": "code",
   "execution_count": 7,
   "metadata": {
    "scrolled": false
   },
   "outputs": [
    {
     "name": "stderr",
     "output_type": "stream",
     "text": [
      "/Users/yann/Applications/anaconda3/lib/python3.6/site-packages/ipykernel_launcher.py:2: UserWarning: This pattern has match groups. To actually get the groups, use str.extract.\n",
      "  \n"
     ]
    },
    {
     "data": {
      "text/plain": [
       "6377"
      ]
     },
     "execution_count": 7,
     "metadata": {},
     "output_type": "execute_result"
    }
   ],
   "source": [
    "agency_indexes = articles.fulltext.str.lower().str.contains(\n",
    "    r\"\\((a\\.?t\\.?s|ap|a\\.?f\\.?p|reuter|associated press).?\\)\"\n",
    ")\n",
    "agency_indexes.sum()\n"
   ]
  },
  {
   "cell_type": "code",
   "execution_count": 31,
   "metadata": {},
   "outputs": [
    {
     "data": {
      "image/png": "[encoded data removed]",
      "text/plain": [
       "<Figure size 432x288 with 1 Axes>"
      ]
     },
     "metadata": {
      "needs_background": "light"
     },
     "output_type": "display_data"
    }
   ],
   "source": [
    "def year_hist(series):\n",
    "    year_series = series.date.dt.year\n",
    "    years = year_series.max() - year_series.min() \n",
    "    return year_series.hist(bins=years)\n",
    "\n",
    "\n",
    "year_hist(articles)\n",
    "year_hist(articles[agency_indexes])\n",
    "year_hist(articles[banking_indexes])\n",
    "year_hist(articles[banking_indexes & agency_indexes]);"
   ]
  },
  {
   "cell_type": "code",
   "execution_count": 9,
   "metadata": {},
   "outputs": [
    {
     "data": {
      "text/plain": [
       "0.2872769142199194"
      ]
     },
     "execution_count": 9,
     "metadata": {},
     "output_type": "execute_result"
    }
   ],
   "source": [
    "(banking_indexes & agency_indexes).sum() / banking_indexes.sum()"
   ]
  },
  {
   "cell_type": "code",
   "execution_count": 10,
   "metadata": {},
   "outputs": [
    {
     "data": {
      "text/plain": [
       "0.18440229020877913"
      ]
     },
     "execution_count": 10,
     "metadata": {},
     "output_type": "execute_result"
    }
   ],
   "source": [
    "agency_indexes.sum() / articles.shape[0]"
   ]
  },
  {
   "cell_type": "markdown",
   "metadata": {},
   "source": [
    "#### Authors"
   ]
  },
  {
   "cell_type": "code",
   "execution_count": 11,
   "metadata": {
    "scrolled": true
   },
   "outputs": [
    {
     "data": {
      "text/plain": [
       "'MARCHÉ DES CAPITAUX Syndicats d\\'émissions : les grandes banques libéralisent ,.\\'-il. : L\\'. ,.... „, ; ,. : .,, (. 1 \\'\" Les trois grandes banques suisses ont annonce mercredi qu\\'elles s\\'apprêtaient à ouvrir sous certaines conditions, leur syndicat d\\'émission d\\'emprunts sur le marché suisse des capitaux, à des émissions dirigées par des banques étrangères établies en Suisse. Des détails sur cène mesure de libéralisation, qui répond à l\\'internationalisation croissante du marché des capitaux, seront gués ultérieurement, ont annoncé les trois grandes banques (UBS, Crédit Suisse et SBS) dans un communiqué. J .-L. L. '"
      ]
     },
     "execution_count": 11,
     "metadata": {},
     "output_type": "execute_result"
    }
   ],
   "source": [
    "fulltext = articles[articles.id.str.contains(\"JDG-1987-08-13\")].iloc[0].fulltext\n",
    "fulltext"
   ]
  },
  {
   "cell_type": "code",
   "execution_count": 12,
   "metadata": {},
   "outputs": [
    {
     "data": {
      "text/plain": [
       "<_sre.SRE_Match object; span=(596, 618), match='communiqué. J .-L. L. '>"
      ]
     },
     "execution_count": 12,
     "metadata": {},
     "output_type": "execute_result"
    }
   ],
   "source": [
    "initials_pattern = r\"\\w{2,}\\s*\\.\\s*((\\s*\\-?\\w\\s*\\.\\s*){2,4})$\"\n",
    "re.search(initials_pattern, fulltext)"
   ]
  },
  {
   "cell_type": "code",
   "execution_count": 13,
   "metadata": {},
   "outputs": [],
   "source": [
    "initials_matches = (\n",
    "    articles.fulltext.str.extract(initials_pattern)\n",
    "    .dropna()[0]\n",
    "    .apply(lambda s: s.upper().replace(\" \", \"\"))\n",
    ")"
   ]
  },
  {
   "cell_type": "code",
   "execution_count": 14,
   "metadata": {},
   "outputs": [
    {
     "data": {
      "text/plain": [
       "913"
      ]
     },
     "execution_count": 14,
     "metadata": {},
     "output_type": "execute_result"
    }
   ],
   "source": [
    "initials_indexes = articles.index.isin(initials_matches.index)\n",
    "len(initials_matches)"
   ]
  },
  {
   "cell_type": "code",
   "execution_count": 32,
   "metadata": {},
   "outputs": [
    {
     "data": {
      "image/png": "[encoded data removed]",
      "text/plain": [
       "<Figure size 432x288 with 1 Axes>"
      ]
     },
     "metadata": {
      "needs_background": "light"
     },
     "output_type": "display_data"
    }
   ],
   "source": [
    "year_hist(articles[initials_indexes]);"
   ]
  },
  {
   "cell_type": "code",
   "execution_count": 19,
   "metadata": {},
   "outputs": [
    {
     "data": {
      "text/html": [
       "<div>\n",
       "<style scoped>\n",
       "    .dataframe tbody tr th:only-of-type {\n",
       "        vertical-align: middle;\n",
       "    }\n",
       "\n",
       "    .dataframe tbody tr th {\n",
       "        vertical-align: top;\n",
       "    }\n",
       "\n",
       "    .dataframe thead th {\n",
       "        text-align: right;\n",
       "    }\n",
       "</style>\n",
       "<table border=\"1\" class=\"dataframe\">\n",
       "  <thead>\n",
       "    <tr style=\"text-align: right;\">\n",
       "      <th></th>\n",
       "      <th>total</th>\n",
       "      <th>JDG</th>\n",
       "      <th>GDL</th>\n",
       "    </tr>\n",
       "  </thead>\n",
       "  <tbody>\n",
       "    <tr>\n",
       "      <th>J.-L.L.</th>\n",
       "      <td>154</td>\n",
       "      <td>75</td>\n",
       "      <td>79</td>\n",
       "    </tr>\n",
       "    <tr>\n",
       "      <th>F.L.</th>\n",
       "      <td>135</td>\n",
       "      <td>1</td>\n",
       "      <td>134</td>\n",
       "    </tr>\n",
       "    <tr>\n",
       "      <th>J.R.</th>\n",
       "      <td>34</td>\n",
       "      <td>16</td>\n",
       "      <td>18</td>\n",
       "    </tr>\n",
       "    <tr>\n",
       "      <th>G.R.</th>\n",
       "      <td>30</td>\n",
       "      <td>0</td>\n",
       "      <td>30</td>\n",
       "    </tr>\n",
       "    <tr>\n",
       "      <th>S.A.</th>\n",
       "      <td>28</td>\n",
       "      <td>21</td>\n",
       "      <td>7</td>\n",
       "    </tr>\n",
       "    <tr>\n",
       "      <th>H.V.</th>\n",
       "      <td>24</td>\n",
       "      <td>24</td>\n",
       "      <td>0</td>\n",
       "    </tr>\n",
       "    <tr>\n",
       "      <th>A.K.</th>\n",
       "      <td>23</td>\n",
       "      <td>23</td>\n",
       "      <td>0</td>\n",
       "    </tr>\n",
       "    <tr>\n",
       "      <th>J.-S.E.</th>\n",
       "      <td>19</td>\n",
       "      <td>12</td>\n",
       "      <td>7</td>\n",
       "    </tr>\n",
       "    <tr>\n",
       "      <th>A.V.</th>\n",
       "      <td>19</td>\n",
       "      <td>12</td>\n",
       "      <td>7</td>\n",
       "    </tr>\n",
       "    <tr>\n",
       "      <th>M.-J.K.</th>\n",
       "      <td>18</td>\n",
       "      <td>9</td>\n",
       "      <td>9</td>\n",
       "    </tr>\n",
       "  </tbody>\n",
       "</table>\n",
       "</div>"
      ],
      "text/plain": [
       "         total  JDG  GDL\n",
       "J.-L.L.    154   75   79\n",
       "F.L.       135    1  134\n",
       "J.R.        34   16   18\n",
       "G.R.        30    0   30\n",
       "S.A.        28   21    7\n",
       "H.V.        24   24    0\n",
       "A.K.        23   23    0\n",
       "J.-S.E.     19   12    7\n",
       "A.V.        19   12    7\n",
       "M.-J.K.     18    9    9"
      ]
     },
     "execution_count": 19,
     "metadata": {},
     "output_type": "execute_result"
    }
   ],
   "source": [
    "initials_counts = (\n",
    "    pd.DataFrame(\n",
    "        {\n",
    "            \"total\": initials_matches.value_counts(),\n",
    "            \"JDG\": initials_matches[jdg_indexes].value_counts(),\n",
    "            \"GDL\": initials_matches[gdl_indexes].value_counts(),\n",
    "        }\n",
    "    )\n",
    "    .sort_values(\"total\", ascending=False)\n",
    "    .fillna(0)\n",
    "    .astype(int)\n",
    ")\n",
    "\n",
    "\n",
    "initials_counts.head(10)"
   ]
  },
  {
   "cell_type": "code",
   "execution_count": 20,
   "metadata": {},
   "outputs": [
    {
     "data": {
      "text/html": [
       "<div>\n",
       "<style scoped>\n",
       "    .dataframe tbody tr th:only-of-type {\n",
       "        vertical-align: middle;\n",
       "    }\n",
       "\n",
       "    .dataframe tbody tr th {\n",
       "        vertical-align: top;\n",
       "    }\n",
       "\n",
       "    .dataframe thead th {\n",
       "        text-align: right;\n",
       "    }\n",
       "</style>\n",
       "<table border=\"1\" class=\"dataframe\">\n",
       "  <thead>\n",
       "    <tr style=\"text-align: right;\">\n",
       "      <th></th>\n",
       "      <th>total</th>\n",
       "      <th>JDG</th>\n",
       "      <th>GDL</th>\n",
       "    </tr>\n",
       "  </thead>\n",
       "  <tbody>\n",
       "    <tr>\n",
       "      <th>F.L.</th>\n",
       "      <td>135</td>\n",
       "      <td>1</td>\n",
       "      <td>134</td>\n",
       "    </tr>\n",
       "    <tr>\n",
       "      <th>J.-L.L.</th>\n",
       "      <td>154</td>\n",
       "      <td>75</td>\n",
       "      <td>79</td>\n",
       "    </tr>\n",
       "    <tr>\n",
       "      <th>G.R.</th>\n",
       "      <td>30</td>\n",
       "      <td>0</td>\n",
       "      <td>30</td>\n",
       "    </tr>\n",
       "    <tr>\n",
       "      <th>J.R.</th>\n",
       "      <td>34</td>\n",
       "      <td>16</td>\n",
       "      <td>18</td>\n",
       "    </tr>\n",
       "    <tr>\n",
       "      <th>F.W.</th>\n",
       "      <td>11</td>\n",
       "      <td>0</td>\n",
       "      <td>11</td>\n",
       "    </tr>\n",
       "  </tbody>\n",
       "</table>\n",
       "</div>"
      ],
      "text/plain": [
       "         total  JDG  GDL\n",
       "F.L.       135    1  134\n",
       "J.-L.L.    154   75   79\n",
       "G.R.        30    0   30\n",
       "J.R.        34   16   18\n",
       "F.W.        11    0   11"
      ]
     },
     "execution_count": 20,
     "metadata": {},
     "output_type": "execute_result"
    }
   ],
   "source": [
    "initials_counts.sort_values(\"GDL\", ascending=False).head()"
   ]
  },
  {
   "cell_type": "code",
   "execution_count": 21,
   "metadata": {},
   "outputs": [
    {
     "data": {
      "text/html": [
       "<div>\n",
       "<style scoped>\n",
       "    .dataframe tbody tr th:only-of-type {\n",
       "        vertical-align: middle;\n",
       "    }\n",
       "\n",
       "    .dataframe tbody tr th {\n",
       "        vertical-align: top;\n",
       "    }\n",
       "\n",
       "    .dataframe thead th {\n",
       "        text-align: right;\n",
       "    }\n",
       "</style>\n",
       "<table border=\"1\" class=\"dataframe\">\n",
       "  <thead>\n",
       "    <tr style=\"text-align: right;\">\n",
       "      <th></th>\n",
       "      <th>total</th>\n",
       "      <th>JDG</th>\n",
       "      <th>GDL</th>\n",
       "    </tr>\n",
       "  </thead>\n",
       "  <tbody>\n",
       "    <tr>\n",
       "      <th>J.-L.L.</th>\n",
       "      <td>154</td>\n",
       "      <td>75</td>\n",
       "      <td>79</td>\n",
       "    </tr>\n",
       "    <tr>\n",
       "      <th>H.V.</th>\n",
       "      <td>24</td>\n",
       "      <td>24</td>\n",
       "      <td>0</td>\n",
       "    </tr>\n",
       "    <tr>\n",
       "      <th>A.K.</th>\n",
       "      <td>23</td>\n",
       "      <td>23</td>\n",
       "      <td>0</td>\n",
       "    </tr>\n",
       "    <tr>\n",
       "      <th>S.A.</th>\n",
       "      <td>28</td>\n",
       "      <td>21</td>\n",
       "      <td>7</td>\n",
       "    </tr>\n",
       "    <tr>\n",
       "      <th>J.R.</th>\n",
       "      <td>34</td>\n",
       "      <td>16</td>\n",
       "      <td>18</td>\n",
       "    </tr>\n",
       "  </tbody>\n",
       "</table>\n",
       "</div>"
      ],
      "text/plain": [
       "         total  JDG  GDL\n",
       "J.-L.L.    154   75   79\n",
       "H.V.        24   24    0\n",
       "A.K.        23   23    0\n",
       "S.A.        28   21    7\n",
       "J.R.        34   16   18"
      ]
     },
     "execution_count": 21,
     "metadata": {},
     "output_type": "execute_result"
    }
   ],
   "source": [
    "initials_counts.sort_values(\"JDG\", ascending=False).head()"
   ]
  },
  {
   "cell_type": "code",
   "execution_count": 22,
   "metadata": {},
   "outputs": [],
   "source": [
    "frequent_initials = initials_counts.head(20).index"
   ]
  },
  {
   "cell_type": "code",
   "execution_count": 23,
   "metadata": {},
   "outputs": [
    {
     "data": {
      "text/plain": [
       "21"
      ]
     },
     "execution_count": 23,
     "metadata": {},
     "output_type": "execute_result"
    }
   ],
   "source": [
    "(initials_indexes & agency_indexes).sum()"
   ]
  },
  {
   "cell_type": "code",
   "execution_count": 24,
   "metadata": {},
   "outputs": [
    {
     "name": "stdout",
     "output_type": "stream",
     "text": [
      "{'Jean-Luc Lederrey'}\n",
      "F.L.\n",
      "{'Jean Roussel'}\n",
      "G.R.\n",
      "{'Sylvie Arsever'}\n",
      "{'Henri Villy'}\n",
      "{'André Klopmann'}\n",
      "{'Jacques-Simon Eggly'}\n",
      "{'André Vallana', 'Anton Vos'}\n",
      "M.-J.K.\n",
      "{'Pierre Novello'}\n",
      "V.S.\n",
      "R.-F.P.\n",
      "A.-M.L.\n",
      "D.-S.M.\n",
      "{'Pascal Garcin'}\n",
      "H.S.\n",
      "G.D.\n",
      "{'Françoise Weilhammer'}\n",
      "P.H.\n"
     ]
    }
   ],
   "source": [
    "with open(DATA_FOLDER + \"authors_jdg.txt\", \"r\") as f:\n",
    "    authors_jdg_list = f.read()\n",
    "\n",
    "# a map from initials to the set of authors with thos initials\n",
    "authors_jdg = {}\n",
    "for author in authors_jdg_list.split(\"\\n\"):\n",
    "    initials = \"\"\n",
    "    for name_part in author.split(\" \"):\n",
    "        if \"-\" in name_part:\n",
    "            single_name = name_part.split(\"-\")\n",
    "            initials += single_name[0][:1] + \".-\" + single_name[1][:1] + \".\"\n",
    "        else:\n",
    "            initials += name_part[:1] + \".\"\n",
    "\n",
    "    if len(initials) > 1:\n",
    "        if initials in authors_jdg:\n",
    "            authors_jdg[initials].add(author)\n",
    "        else:\n",
    "            authors_jdg[initials] = set([author])\n",
    "\n",
    "\n",
    "for initials in frequent_initials:\n",
    "    if initials in authors_jdg:\n",
    "        print(authors_jdg[initials])\n",
    "    else:\n",
    "        print(initials)"
   ]
  },
  {
   "cell_type": "markdown",
   "metadata": {},
   "source": [
    "#### Author's full name"
   ]
  },
  {
   "cell_type": "code",
   "execution_count": 25,
   "metadata": {},
   "outputs": [],
   "source": [
    "from functools import reduce\n",
    "\n",
    "authors_jdg_set = reduce(lambda s1, s2: s1 | s2, authors_jdg.values())\n",
    "jdg_pattern = \"(\" + \"|\".join(authors_jdg_set) + \")\"\n",
    "\n",
    "full_name = (\n",
    "    articles.fulltext.str.extract(jdg_pattern, flags=re.IGNORECASE)[0]\n",
    "    .dropna()\n",
    "    .str.lower()\n",
    "    .str.strip()\n",
    ")"
   ]
  },
  {
   "cell_type": "code",
   "execution_count": 70,
   "metadata": {},
   "outputs": [
    {
     "name": "stdout",
     "output_type": "stream",
     "text": [
      "1772\n",
      "2670\n"
     ]
    },
    {
     "data": {
      "image/png": "[encoded data removed]",
      "text/plain": [
       "<Figure size 432x288 with 1 Axes>"
      ]
     },
     "metadata": {
      "image/png": {
       "height": 250,
       "width": 391
      },
      "needs_background": "light"
     },
     "output_type": "display_data"
    }
   ],
   "source": [
    "full_name_indexes = articles.index.isin(full_name.index)\n",
    "print(full_name_indexes.sum())\n",
    "\n",
    "attributed_indexes = full_name_indexes | initials_indexes\n",
    "print(attributed_indexes.sum())\n",
    "\n",
    "year_hist(articles[attributed_indexes]);\n",
    "year_hist(articles[attributed_indexes & banking_indexes]);\n",
    "\n",
    "plt.axis(xmin=1950);\n",
    "plt.ylabel(\"nombre d'articles\")\n",
    "plt.legend([\"corpus\", \"sous-corpus\"]);\n",
    "\n",
    "plt.savefig(\"../rapport/methodology/author_attributed.png\", dpi=200)"
   ]
  },
  {
   "cell_type": "code",
   "execution_count": 22,
   "metadata": {},
   "outputs": [
    {
     "data": {
      "text/plain": [
       "jean-luc lederrey      510\n",
       "pierre novello         190\n",
       "jacques-simon eggly    156\n",
       "andré vallana          144\n",
       "marian stepczynski     134\n",
       "sylvie arsever          89\n",
       "françoise buffat        59\n",
       "christian campiche      37\n",
       "mehmet gultas           27\n",
       "pascal garcin           27\n",
       "ignace jeannerat        27\n",
       "françoise blaser        25\n",
       "esther mamarbachi       25\n",
       "bernard wuthrich        22\n",
       "robin bleeker           22\n",
       "denise jeanmonod        20\n",
       "olivier reverdin        17\n",
       "jasmine audemars        17\n",
       "michel petitpierre      13\n",
       "antoine maurice         12\n",
       "roger de diesbach       10\n",
       "roland ecoffey          10\n",
       "jean-claude buffle       9\n",
       "fati mansour             9\n",
       "luis lema                9\n",
       "antoine bosshard         9\n",
       "patricia briel           9\n",
       "jean roussel             8\n",
       "pascal praplan           7\n",
       "bernard béguin           7\n",
       "                      ... \n",
       "alain r. walon           5\n",
       "philippa de roten        5\n",
       "isabelle martin          5\n",
       "andré klopmann           5\n",
       "christophe hans          4\n",
       "christian bernet         4\n",
       "thierry mertenat         4\n",
       "roger d'ivernois         4\n",
       "olivier dessimoz         3\n",
       "silvia ricci             3\n",
       "jean martin              3\n",
       "nuno sepulveda           2\n",
       "paul ladame              2\n",
       "katia berger             2\n",
       "jean-pierre arn          2\n",
       "romain rolland           2\n",
       "annick jeanmairet        2\n",
       "henri villy              2\n",
       "pierre cormon            2\n",
       "jean troesch             2\n",
       "martine lamunière        1\n",
       "nicolas dufour           1\n",
       "walter weideli           1\n",
       "francis haller           1\n",
       "jürg bissegger           1\n",
       "justin favrod            1\n",
       "xavier comtesse          1\n",
       "william martin           1\n",
       "colette braeckman        1\n",
       "giuseppe costa           1\n",
       "Name: 0, Length: 67, dtype: int64"
      ]
     },
     "execution_count": 22,
     "metadata": {},
     "output_type": "execute_result"
    }
   ],
   "source": [
    "full_name.value_counts()"
   ]
  },
  {
   "cell_type": "code",
   "execution_count": 68,
   "metadata": {},
   "outputs": [
    {
     "data": {
      "text/plain": [
       "jean-luc lederrey      29\n",
       "jacques-simon eggly    26\n",
       "françoise blaser        6\n",
       "sylvie arsever          4\n",
       "pierre novello          4\n",
       "isabelle martin         2\n",
       "pascal garcin           1\n",
       "paul ladame             1\n",
       "olivier reverdin        1\n",
       "nuno sepulveda          1\n",
       "françoise buffat        1\n",
       "jean-claude poulin      1\n",
       "jasmine audemars        1\n",
       "Name: 0, dtype: int64"
      ]
     },
     "execution_count": 68,
     "metadata": {},
     "output_type": "execute_result"
    }
   ],
   "source": [
    "full_name[gdl_indexes & banking_indexes & (articles.date.dt.year <= 1990)].value_counts()"
   ]
  },
  {
   "cell_type": "code",
   "execution_count": 69,
   "metadata": {},
   "outputs": [
    {
     "data": {
      "text/plain": [
       "J.-L.L.    16\n",
       "D.-S.M.     6\n",
       "J.R.        5\n",
       "A.-M.L.     3\n",
       "H.S.        3\n",
       "J.-S.E.     2\n",
       "F.W.        2\n",
       "G.P.        2\n",
       "S.A.        2\n",
       "R.R.        1\n",
       "J.S.E.      1\n",
       "M.-J.K.     1\n",
       "P.-A.S.     1\n",
       "G.D.        1\n",
       "J.-P.G.     1\n",
       "-H.P.       1\n",
       "C.-E.L.     1\n",
       "J.A.        1\n",
       "F.L.        1\n",
       "A.W.        1\n",
       "D.A.        1\n",
       "X.P.        1\n",
       "M.S.        1\n",
       "J.S.        1\n",
       "R.L.        1\n",
       "-E.R.       1\n",
       "J.-C.R.     1\n",
       "Name: 0, dtype: int64"
      ]
     },
     "execution_count": 69,
     "metadata": {},
     "output_type": "execute_result"
    }
   ],
   "source": [
    "initials_matches[gdl_indexes & banking_indexes & (articles.date.dt.year <= 1990)].value_counts()"
   ]
  },
  {
   "cell_type": "markdown",
   "metadata": {},
   "source": [
    "#### Rédaction"
   ]
  },
  {
   "cell_type": "code",
   "execution_count": 24,
   "metadata": {},
   "outputs": [
    {
     "data": {
      "text/plain": [
       "261"
      ]
     },
     "execution_count": 24,
     "metadata": {},
     "output_type": "execute_result"
    }
   ],
   "source": [
    "red_indexes = articles.fulltext.str.contains(\"\\([R|r][é|e]d\\.?\\)\")\n",
    "red_indexes.sum()"
   ]
  },
  {
   "cell_type": "code",
   "execution_count": 25,
   "metadata": {},
   "outputs": [
    {
     "ename": "NameError",
     "evalue": "name 'ats_indexes' is not defined",
     "output_type": "error",
     "traceback": [
      "\u001b[0;31m---------------------------------------------------------------------------\u001b[0m",
      "\u001b[0;31mNameError\u001b[0m                                 Traceback (most recent call last)",
      "\u001b[0;32m<ipython-input-25-71de31dcebf9>\u001b[0m in \u001b[0;36m<module>\u001b[0;34m\u001b[0m\n\u001b[0;32m----> 1\u001b[0;31m \u001b[0;34m(\u001b[0m\u001b[0mred_indexes\u001b[0m \u001b[0;34m&\u001b[0m \u001b[0;34m(\u001b[0m\u001b[0mats_indexes\u001b[0m \u001b[0;34m|\u001b[0m \u001b[0mafp_indexes\u001b[0m \u001b[0;34m|\u001b[0m \u001b[0minitials_indexes\u001b[0m\u001b[0;34m)\u001b[0m\u001b[0;34m)\u001b[0m\u001b[0;34m.\u001b[0m\u001b[0msum\u001b[0m\u001b[0;34m(\u001b[0m\u001b[0;34m)\u001b[0m\u001b[0;34m\u001b[0m\u001b[0;34m\u001b[0m\u001b[0m\n\u001b[0m",
      "\u001b[0;31mNameError\u001b[0m: name 'ats_indexes' is not defined"
     ]
    }
   ],
   "source": [
    "(red_indexes & (ats_indexes | afp_indexes | initials_indexes)).sum()"
   ]
  },
  {
   "cell_type": "markdown",
   "metadata": {},
   "source": [
    "--> too much overlap! Don't use."
   ]
  },
  {
   "cell_type": "code",
   "execution_count": null,
   "metadata": {},
   "outputs": [],
   "source": []
  }
 ],
 "metadata": {
  "kernelspec": {
   "display_name": "Python 3",
   "language": "python",
   "name": "python3"
  },
  "language_info": {
   "codemirror_mode": {
    "name": "ipython",
    "version": 3
   },
   "file_extension": ".py",
   "mimetype": "text/x-python",
   "name": "python",
   "nbconvert_exporter": "python",
   "pygments_lexer": "ipython3",
   "version": "3.6.8"
  }
 },
 "nbformat": 4,
 "nbformat_minor": 2
}
