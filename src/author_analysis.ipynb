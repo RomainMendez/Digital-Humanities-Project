{
 "cells": [
  {
   "cell_type": "markdown",
   "metadata": {},
   "source": [
    "# Author analysis\n"
   ]
  },
  {
   "cell_type": "code",
   "execution_count": 1,
   "metadata": {},
   "outputs": [],
   "source": [
    "import re\n",
    "import pandas as pd\n",
    "import numpy as np\n",
    "import matplotlib.pyplot as plt\n",
    "%config InlineBackend.figure_format = 'retina'\n",
    "\n",
    "DATA_FOLDER = \"../data/\"\n",
    "\n",
    "%load_ext blackcellmagic"
   ]
  },
  {
   "cell_type": "code",
   "execution_count": 2,
   "metadata": {},
   "outputs": [],
   "source": [
    "plt.rcParams['figure.figsize'] = [12, 6]"
   ]
  },
  {
   "cell_type": "code",
   "execution_count": 3,
   "metadata": {},
   "outputs": [],
   "source": [
    "articles = pd.read_json(DATA_FOLDER + \"filtered.jsonl\", lines=True)"
   ]
  },
  {
   "cell_type": "code",
   "execution_count": 4,
   "metadata": {
    "scrolled": false
   },
   "outputs": [
    {
     "data": {
      "text/html": [
       "<div>\n",
       "<style scoped>\n",
       "    .dataframe tbody tr th:only-of-type {\n",
       "        vertical-align: middle;\n",
       "    }\n",
       "\n",
       "    .dataframe tbody tr th {\n",
       "        vertical-align: top;\n",
       "    }\n",
       "\n",
       "    .dataframe thead th {\n",
       "        text-align: right;\n",
       "    }\n",
       "</style>\n",
       "<table border=\"1\" class=\"dataframe\">\n",
       "  <thead>\n",
       "    <tr style=\"text-align: right;\">\n",
       "      <th></th>\n",
       "      <th>date</th>\n",
       "      <th>fulltext</th>\n",
       "      <th>id</th>\n",
       "      <th>pages</th>\n",
       "      <th>title</th>\n",
       "      <th>type</th>\n",
       "    </tr>\n",
       "  </thead>\n",
       "  <tbody>\n",
       "    <tr>\n",
       "      <th>0</th>\n",
       "      <td>1900-10-15</td>\n",
       "      <td>CONFÉDÉRATION S 01 SSE Militaire. — Le départe...</td>\n",
       "      <td>GDL-1900-10-15-a-i0014</td>\n",
       "      <td>[2]</td>\n",
       "      <td>CONFÉDÉRATION S01SSE</td>\n",
       "      <td>ar</td>\n",
       "    </tr>\n",
       "    <tr>\n",
       "      <th>1</th>\n",
       "      <td>1900-02-03</td>\n",
       "      <td>CONFÉDÉRATION SOISSE Nominations. — Le Conseil...</td>\n",
       "      <td>GDL-1900-02-03-a-i0013</td>\n",
       "      <td>[2]</td>\n",
       "      <td>CONFÉDÉRATION SOISSE</td>\n",
       "      <td>ar</td>\n",
       "    </tr>\n",
       "    <tr>\n",
       "      <th>2</th>\n",
       "      <td>1900-08-06</td>\n",
       "      <td>CONFÉDÉRATION SUISSE Drainage des écus. — D'ap...</td>\n",
       "      <td>GDL-1900-08-06-a-i0014</td>\n",
       "      <td>[2]</td>\n",
       "      <td>CONFÉDÉRATION SUISSE</td>\n",
       "      <td>ar</td>\n",
       "    </tr>\n",
       "    <tr>\n",
       "      <th>3</th>\n",
       "      <td>1900-02-15</td>\n",
       "      <td>Le drainage des éens. Genève, 14 février. Lund...</td>\n",
       "      <td>GDL-1900-02-15-a-i0006</td>\n",
       "      <td>[1]</td>\n",
       "      <td>Le drainage des éens.</td>\n",
       "      <td>ar</td>\n",
       "    </tr>\n",
       "    <tr>\n",
       "      <th>4</th>\n",
       "      <td>1900-06-11</td>\n",
       "      <td>CONFÉDÉRATION SOISS Sonnerie de cloches. — Le ...</td>\n",
       "      <td>GDL-1900-06-11-a-i0015</td>\n",
       "      <td>[2]</td>\n",
       "      <td>CONFÉDÉRATION SOISS</td>\n",
       "      <td>ar</td>\n",
       "    </tr>\n",
       "    <tr>\n",
       "      <th>5</th>\n",
       "      <td>1900-05-25</td>\n",
       "      <td>CONFÉDÉRATION SUISSE Expulsions. — Le Conseil ...</td>\n",
       "      <td>GDL-1900-05-25-a-i0010</td>\n",
       "      <td>[2]</td>\n",
       "      <td>CONFÉDÉRATION SUISSE</td>\n",
       "      <td>ar</td>\n",
       "    </tr>\n",
       "    <tr>\n",
       "      <th>6</th>\n",
       "      <td>1900-05-26</td>\n",
       "      <td>BULLETIN POLITIQUE Lausanne, 26 mai 1900. lie ...</td>\n",
       "      <td>GDL-1900-05-26-a-i0002</td>\n",
       "      <td>[1]</td>\n",
       "      <td>BULLETIN POLITIQUE</td>\n",
       "      <td>ar</td>\n",
       "    </tr>\n",
       "    <tr>\n",
       "      <th>7</th>\n",
       "      <td>1900-09-08</td>\n",
       "      <td>KOUVELiES DES CANTONS BERNE. — L'institut vacc...</td>\n",
       "      <td>GDL-1900-09-08-a-i0016</td>\n",
       "      <td>[2]</td>\n",
       "      <td>KOUVELiES DES CANTONS</td>\n",
       "      <td>ar</td>\n",
       "    </tr>\n",
       "    <tr>\n",
       "      <th>8</th>\n",
       "      <td>1900-11-22</td>\n",
       "      <td>CONFÉDÉRATION SUISSE Budget. — La commission d...</td>\n",
       "      <td>GDL-1900-11-22-a-i0013</td>\n",
       "      <td>[2]</td>\n",
       "      <td>CONFÉDÉRATION SUISSE</td>\n",
       "      <td>ar</td>\n",
       "    </tr>\n",
       "    <tr>\n",
       "      <th>9</th>\n",
       "      <td>1900-11-24</td>\n",
       "      <td>CONFÉDÉRATION SUISSE Chemins de fer. — Le Cons...</td>\n",
       "      <td>GDL-1900-11-24-a-i0015</td>\n",
       "      <td>[2]</td>\n",
       "      <td>CONFÉDÉRATION SUISSE Chemins de fer. — Le Cons...</td>\n",
       "      <td>ar</td>\n",
       "    </tr>\n",
       "  </tbody>\n",
       "</table>\n",
       "</div>"
      ],
      "text/plain": [
       "        date                                           fulltext  \\\n",
       "0 1900-10-15  CONFÉDÉRATION S 01 SSE Militaire. — Le départe...   \n",
       "1 1900-02-03  CONFÉDÉRATION SOISSE Nominations. — Le Conseil...   \n",
       "2 1900-08-06  CONFÉDÉRATION SUISSE Drainage des écus. — D'ap...   \n",
       "3 1900-02-15  Le drainage des éens. Genève, 14 février. Lund...   \n",
       "4 1900-06-11  CONFÉDÉRATION SOISS Sonnerie de cloches. — Le ...   \n",
       "5 1900-05-25  CONFÉDÉRATION SUISSE Expulsions. — Le Conseil ...   \n",
       "6 1900-05-26  BULLETIN POLITIQUE Lausanne, 26 mai 1900. lie ...   \n",
       "7 1900-09-08  KOUVELiES DES CANTONS BERNE. — L'institut vacc...   \n",
       "8 1900-11-22  CONFÉDÉRATION SUISSE Budget. — La commission d...   \n",
       "9 1900-11-24  CONFÉDÉRATION SUISSE Chemins de fer. — Le Cons...   \n",
       "\n",
       "                       id pages  \\\n",
       "0  GDL-1900-10-15-a-i0014   [2]   \n",
       "1  GDL-1900-02-03-a-i0013   [2]   \n",
       "2  GDL-1900-08-06-a-i0014   [2]   \n",
       "3  GDL-1900-02-15-a-i0006   [1]   \n",
       "4  GDL-1900-06-11-a-i0015   [2]   \n",
       "5  GDL-1900-05-25-a-i0010   [2]   \n",
       "6  GDL-1900-05-26-a-i0002   [1]   \n",
       "7  GDL-1900-09-08-a-i0016   [2]   \n",
       "8  GDL-1900-11-22-a-i0013   [2]   \n",
       "9  GDL-1900-11-24-a-i0015   [2]   \n",
       "\n",
       "                                               title type  \n",
       "0                               CONFÉDÉRATION S01SSE   ar  \n",
       "1                               CONFÉDÉRATION SOISSE   ar  \n",
       "2                               CONFÉDÉRATION SUISSE   ar  \n",
       "3                              Le drainage des éens.   ar  \n",
       "4                                CONFÉDÉRATION SOISS   ar  \n",
       "5                               CONFÉDÉRATION SUISSE   ar  \n",
       "6                                 BULLETIN POLITIQUE   ar  \n",
       "7                              KOUVELiES DES CANTONS   ar  \n",
       "8                               CONFÉDÉRATION SUISSE   ar  \n",
       "9  CONFÉDÉRATION SUISSE Chemins de fer. — Le Cons...   ar  "
      ]
     },
     "execution_count": 4,
     "metadata": {},
     "output_type": "execute_result"
    }
   ],
   "source": [
    "articles.head(10)"
   ]
  },
  {
   "cell_type": "code",
   "execution_count": 5,
   "metadata": {},
   "outputs": [
    {
     "data": {
      "text/plain": [
       "34582"
      ]
     },
     "execution_count": 5,
     "metadata": {},
     "output_type": "execute_result"
    }
   ],
   "source": [
    "len(articles)"
   ]
  },
  {
   "cell_type": "code",
   "execution_count": 6,
   "metadata": {},
   "outputs": [
    {
     "name": "stdout",
     "output_type": "stream",
     "text": [
      "JDG:  13487 \n",
      "GDL:  21095\n"
     ]
    }
   ],
   "source": [
    "jdg_indexes = articles.id.str.contains(\"JDG\")\n",
    "gdl_indexes = articles.id.str.contains(\"GDL\")\n",
    "\n",
    "print(\n",
    "    \"JDG: \",\n",
    "    jdg_indexes.sum(),\n",
    "    \"\\nGDL: \",\n",
    "    gdl_indexes.sum()\n",
    ")"
   ]
  },
  {
   "cell_type": "code",
   "execution_count": 7,
   "metadata": {},
   "outputs": [
    {
     "data": {
      "text/plain": [
       "1737"
      ]
     },
     "execution_count": 7,
     "metadata": {},
     "output_type": "execute_result"
    }
   ],
   "source": [
    "banking_indexes =  articles.fulltext.str.lower().str.contains(\"secret bancaire\")\n",
    "banking_indexes.sum()"
   ]
  },
  {
   "cell_type": "code",
   "execution_count": 8,
   "metadata": {},
   "outputs": [
    {
     "data": {
      "text/plain": [
       "0.050228442542363076"
      ]
     },
     "execution_count": 8,
     "metadata": {},
     "output_type": "execute_result"
    }
   ],
   "source": [
    "banking_indexes.sum() / articles.id.count()"
   ]
  },
  {
   "cell_type": "markdown",
   "metadata": {},
   "source": [
    "## Different types of authors\n",
    "\n",
    "#### Agencies\n",
    "\n",
    "- **ATS** Agence télégraphique suisse\n",
    "- **AFP** Agence France-Presse\n",
    "- **Reuters** \n",
    "- **AP**: Associated press"
   ]
  },
  {
   "cell_type": "code",
   "execution_count": 9,
   "metadata": {
    "scrolled": false
   },
   "outputs": [
    {
     "name": "stderr",
     "output_type": "stream",
     "text": [
      "/Users/yann/Applications/anaconda3/lib/python3.6/site-packages/ipykernel_launcher.py:2: UserWarning: This pattern has match groups. To actually get the groups, use str.extract.\n",
      "  \n"
     ]
    },
    {
     "data": {
      "text/plain": [
       "6355"
      ]
     },
     "execution_count": 9,
     "metadata": {},
     "output_type": "execute_result"
    }
   ],
   "source": [
    "def agency_indexes(agency_pattern):\n",
    "    return articles.fulltext.str.lower().str.contains(agency_pattern)\n",
    "\n",
    "ats_indexes = agency_indexes(r\"\\(a\\.?t\\.?s\\.?\\)\")\n",
    "ap_indexes = agency_indexes(r\"\\((a\\.?p\\.?|associated press\\.?)\\)\")\n",
    "afp_indexes = agency_indexes(r\"\\(a\\.?f\\.?p\\.?\\)\")\n",
    "reuter_indexes = agency_indexes(r\"\\(reuters?\\.?\\)\")\n",
    "\n",
    "foreign_agency_indexes = ap_indexes | afp_indexes | reuter_indexes\n",
    "agency_indexes = ats_indexes | foreign_agency_indexes\n",
    "agency_indexes.sum()\n"
   ]
  },
  {
   "cell_type": "code",
   "execution_count": 10,
   "metadata": {
    "scrolled": true
   },
   "outputs": [
    {
     "data": {
      "text/plain": [
       "0.2867012089810017"
      ]
     },
     "execution_count": 10,
     "metadata": {},
     "output_type": "execute_result"
    }
   ],
   "source": [
    "(banking_indexes & agency_indexes).sum() / banking_indexes.sum()"
   ]
  },
  {
   "cell_type": "code",
   "execution_count": 11,
   "metadata": {},
   "outputs": [
    {
     "data": {
      "text/plain": [
       "0.18376612110346424"
      ]
     },
     "execution_count": 11,
     "metadata": {},
     "output_type": "execute_result"
    }
   ],
   "source": [
    "agency_indexes.sum() / articles.shape[0]"
   ]
  },
  {
   "cell_type": "code",
   "execution_count": 34,
   "metadata": {
    "scrolled": false
   },
   "outputs": [],
   "source": [
    "def year_series(series):\n",
    "    year_series = series.date.dt.year\n",
    "    delta_years = year_series.max() - year_series.min()   \n",
    "    return year_series, delta_years\n",
    "    \n",
    "\n",
    "def year_hist(series, alpha=1):\n",
    "    years, bins = year_series(series)\n",
    "    plt.ylabel(\"nombre d'articles\")\n",
    "    return years.hist(bins=bins, alpha=alpha)"
   ]
  },
  {
   "cell_type": "code",
   "execution_count": 13,
   "metadata": {},
   "outputs": [
    {
     "data": {
      "image/png": "[encoded data removed]",
      "text/plain": [
       "<Figure size 864x432 with 1 Axes>"
      ]
     },
     "metadata": {
      "image/png": {
       "height": 358,
       "width": 729
      },
      "needs_background": "light"
     },
     "output_type": "display_data"
    }
   ],
   "source": [
    "year_hist(articles[banking_indexes])\n",
    "year_hist(articles[banking_indexes & agency_indexes]);\n",
    "\n",
    "plt.legend([\n",
    "    \"Articles 'secret bancaire'\", \n",
    "    \"Articles d'agences 'secret bancaire'\"\n",
    "]);\n",
    "plt.savefig(\"../rapport/analysis/angency_banking_hist.png\", dpi=200);"
   ]
  },
  {
   "cell_type": "code",
   "execution_count": 14,
   "metadata": {},
   "outputs": [
    {
     "data": {
      "image/png": "[encoded data removed]",
      "text/plain": [
       "<Figure size 864x432 with 1 Axes>"
      ]
     },
     "metadata": {
      "image/png": {
       "height": 376,
       "width": 725
      },
      "needs_background": "light"
     },
     "output_type": "display_data"
    }
   ],
   "source": [
    "years = range(1965, 1998)\n",
    "\n",
    "ats_banking_series, _ = year_series(articles[ats_indexes & banking_indexes])\n",
    "for_banking_series, _ = year_series(articles[foreign_agency_indexes & banking_indexes])\n",
    "\n",
    "ats_banking_hist, _ = np.histogram(ats_banking_series, bins=years)\n",
    "for_banking_hist, _ = np.histogram(for_banking_series, bins=years)\n",
    "\n",
    "total = ats_banking_hist + for_banking_hist\n",
    "ats_percentage = 100.0 * ats_banking_hist / total\n",
    "for_percentage = 100.0 * for_banking_hist / total\n",
    "\n",
    "plt.bar(\n",
    "    np.array(years[:-1]),\n",
    "    ats_percentage,\n",
    "    label=\"ATS\",\n",
    ")\n",
    "\n",
    "plt.bar(\n",
    "    np.array(years[:-1]),\n",
    "    for_percentage,\n",
    "    bottom=ats_percentage,\n",
    "    label=\"agences étrangères\",\n",
    ")\n",
    "\n",
    "plt.legend()\n",
    "plt.ylabel(\"pourcentage [%]\")\n",
    "plt.grid(axis='y')\n",
    "\n",
    "plt.xticks(years[:-1], rotation=50)\n",
    "plt.savefig(\"../rapport/analysis/agency_percentage.png\", dpi=200);"
   ]
  },
  {
   "cell_type": "markdown",
   "metadata": {},
   "source": [
    "#### Authors"
   ]
  },
  {
   "cell_type": "code",
   "execution_count": 15,
   "metadata": {
    "scrolled": true
   },
   "outputs": [
    {
     "data": {
      "text/plain": [
       "'MARCHÉ DES CAPITAUX Syndicats d\\'émissions : les grandes banques libéralisent ,.\\'-il. : L\\'. ,.... „, ; ,. : .,, (. 1 \\'\" Les trois grandes banques suisses ont annonce mercredi qu\\'elles s\\'apprêtaient à ouvrir sous certaines conditions, leur syndicat d\\'émission d\\'emprunts sur le marché suisse des capitaux, à des émissions dirigées par des banques étrangères établies en Suisse. Des détails sur cène mesure de libéralisation, qui répond à l\\'internationalisation croissante du marché des capitaux, seront gués ultérieurement, ont annoncé les trois grandes banques (UBS, Crédit Suisse et SBS) dans un communiqué. J .-L. L. '"
      ]
     },
     "execution_count": 15,
     "metadata": {},
     "output_type": "execute_result"
    }
   ],
   "source": [
    "fulltext = articles[articles.id.str.contains(\"JDG-1987-08-13\")].iloc[0].fulltext\n",
    "fulltext"
   ]
  },
  {
   "cell_type": "code",
   "execution_count": 16,
   "metadata": {},
   "outputs": [
    {
     "data": {
      "text/plain": [
       "<_sre.SRE_Match object; span=(596, 618), match='communiqué. J .-L. L. '>"
      ]
     },
     "execution_count": 16,
     "metadata": {},
     "output_type": "execute_result"
    }
   ],
   "source": [
    "initials_pattern = r\"\\w{2,}\\s*\\.\\s*((\\s*\\-?\\w\\s*\\.\\s*){2,4})$\"\n",
    "re.search(initials_pattern, fulltext)"
   ]
  },
  {
   "cell_type": "code",
   "execution_count": 17,
   "metadata": {},
   "outputs": [],
   "source": [
    "initials_matches = (\n",
    "    articles.fulltext.str.extract(initials_pattern)\n",
    "    .dropna()[0]\n",
    "    .apply(lambda s: s.upper().replace(\" \", \"\"))\n",
    ")"
   ]
  },
  {
   "cell_type": "code",
   "execution_count": 18,
   "metadata": {},
   "outputs": [
    {
     "data": {
      "text/plain": [
       "913"
      ]
     },
     "execution_count": 18,
     "metadata": {},
     "output_type": "execute_result"
    }
   ],
   "source": [
    "initials_indexes = articles.index.isin(initials_matches.index)\n",
    "len(initials_matches)"
   ]
  },
  {
   "cell_type": "code",
   "execution_count": 19,
   "metadata": {},
   "outputs": [
    {
     "data": {
      "text/html": [
       "<div>\n",
       "<style scoped>\n",
       "    .dataframe tbody tr th:only-of-type {\n",
       "        vertical-align: middle;\n",
       "    }\n",
       "\n",
       "    .dataframe tbody tr th {\n",
       "        vertical-align: top;\n",
       "    }\n",
       "\n",
       "    .dataframe thead th {\n",
       "        text-align: right;\n",
       "    }\n",
       "</style>\n",
       "<table border=\"1\" class=\"dataframe\">\n",
       "  <thead>\n",
       "    <tr style=\"text-align: right;\">\n",
       "      <th></th>\n",
       "      <th>total</th>\n",
       "      <th>JDG</th>\n",
       "      <th>GDL</th>\n",
       "    </tr>\n",
       "  </thead>\n",
       "  <tbody>\n",
       "    <tr>\n",
       "      <th>J.-L.L.</th>\n",
       "      <td>154</td>\n",
       "      <td>75</td>\n",
       "      <td>79</td>\n",
       "    </tr>\n",
       "    <tr>\n",
       "      <th>F.L.</th>\n",
       "      <td>135</td>\n",
       "      <td>1</td>\n",
       "      <td>134</td>\n",
       "    </tr>\n",
       "    <tr>\n",
       "      <th>J.R.</th>\n",
       "      <td>34</td>\n",
       "      <td>16</td>\n",
       "      <td>18</td>\n",
       "    </tr>\n",
       "    <tr>\n",
       "      <th>G.R.</th>\n",
       "      <td>30</td>\n",
       "      <td>0</td>\n",
       "      <td>30</td>\n",
       "    </tr>\n",
       "    <tr>\n",
       "      <th>S.A.</th>\n",
       "      <td>28</td>\n",
       "      <td>21</td>\n",
       "      <td>7</td>\n",
       "    </tr>\n",
       "    <tr>\n",
       "      <th>H.V.</th>\n",
       "      <td>24</td>\n",
       "      <td>24</td>\n",
       "      <td>0</td>\n",
       "    </tr>\n",
       "    <tr>\n",
       "      <th>A.K.</th>\n",
       "      <td>23</td>\n",
       "      <td>23</td>\n",
       "      <td>0</td>\n",
       "    </tr>\n",
       "    <tr>\n",
       "      <th>J.-S.E.</th>\n",
       "      <td>19</td>\n",
       "      <td>12</td>\n",
       "      <td>7</td>\n",
       "    </tr>\n",
       "    <tr>\n",
       "      <th>A.V.</th>\n",
       "      <td>19</td>\n",
       "      <td>12</td>\n",
       "      <td>7</td>\n",
       "    </tr>\n",
       "    <tr>\n",
       "      <th>M.-J.K.</th>\n",
       "      <td>18</td>\n",
       "      <td>9</td>\n",
       "      <td>9</td>\n",
       "    </tr>\n",
       "  </tbody>\n",
       "</table>\n",
       "</div>"
      ],
      "text/plain": [
       "         total  JDG  GDL\n",
       "J.-L.L.    154   75   79\n",
       "F.L.       135    1  134\n",
       "J.R.        34   16   18\n",
       "G.R.        30    0   30\n",
       "S.A.        28   21    7\n",
       "H.V.        24   24    0\n",
       "A.K.        23   23    0\n",
       "J.-S.E.     19   12    7\n",
       "A.V.        19   12    7\n",
       "M.-J.K.     18    9    9"
      ]
     },
     "execution_count": 19,
     "metadata": {},
     "output_type": "execute_result"
    }
   ],
   "source": [
    "initials_counts = (\n",
    "    pd.DataFrame(\n",
    "        {\n",
    "            \"total\": initials_matches.value_counts(),\n",
    "            \"JDG\": initials_matches[jdg_indexes].value_counts(),\n",
    "            \"GDL\": initials_matches[gdl_indexes].value_counts(),\n",
    "        }\n",
    "    )\n",
    "    .sort_values(\"total\", ascending=False)\n",
    "    .fillna(0)\n",
    "    .astype(int)\n",
    ")\n",
    "\n",
    "\n",
    "initials_counts.head(10)"
   ]
  },
  {
   "cell_type": "code",
   "execution_count": 20,
   "metadata": {},
   "outputs": [
    {
     "data": {
      "text/html": [
       "<div>\n",
       "<style scoped>\n",
       "    .dataframe tbody tr th:only-of-type {\n",
       "        vertical-align: middle;\n",
       "    }\n",
       "\n",
       "    .dataframe tbody tr th {\n",
       "        vertical-align: top;\n",
       "    }\n",
       "\n",
       "    .dataframe thead th {\n",
       "        text-align: right;\n",
       "    }\n",
       "</style>\n",
       "<table border=\"1\" class=\"dataframe\">\n",
       "  <thead>\n",
       "    <tr style=\"text-align: right;\">\n",
       "      <th></th>\n",
       "      <th>total</th>\n",
       "      <th>JDG</th>\n",
       "      <th>GDL</th>\n",
       "    </tr>\n",
       "  </thead>\n",
       "  <tbody>\n",
       "    <tr>\n",
       "      <th>F.L.</th>\n",
       "      <td>135</td>\n",
       "      <td>1</td>\n",
       "      <td>134</td>\n",
       "    </tr>\n",
       "    <tr>\n",
       "      <th>J.-L.L.</th>\n",
       "      <td>154</td>\n",
       "      <td>75</td>\n",
       "      <td>79</td>\n",
       "    </tr>\n",
       "    <tr>\n",
       "      <th>G.R.</th>\n",
       "      <td>30</td>\n",
       "      <td>0</td>\n",
       "      <td>30</td>\n",
       "    </tr>\n",
       "    <tr>\n",
       "      <th>J.R.</th>\n",
       "      <td>34</td>\n",
       "      <td>16</td>\n",
       "      <td>18</td>\n",
       "    </tr>\n",
       "    <tr>\n",
       "      <th>F.W.</th>\n",
       "      <td>11</td>\n",
       "      <td>0</td>\n",
       "      <td>11</td>\n",
       "    </tr>\n",
       "  </tbody>\n",
       "</table>\n",
       "</div>"
      ],
      "text/plain": [
       "         total  JDG  GDL\n",
       "F.L.       135    1  134\n",
       "J.-L.L.    154   75   79\n",
       "G.R.        30    0   30\n",
       "J.R.        34   16   18\n",
       "F.W.        11    0   11"
      ]
     },
     "execution_count": 20,
     "metadata": {},
     "output_type": "execute_result"
    }
   ],
   "source": [
    "initials_counts.sort_values(\"GDL\", ascending=False).head()"
   ]
  },
  {
   "cell_type": "code",
   "execution_count": 21,
   "metadata": {},
   "outputs": [
    {
     "data": {
      "text/html": [
       "<div>\n",
       "<style scoped>\n",
       "    .dataframe tbody tr th:only-of-type {\n",
       "        vertical-align: middle;\n",
       "    }\n",
       "\n",
       "    .dataframe tbody tr th {\n",
       "        vertical-align: top;\n",
       "    }\n",
       "\n",
       "    .dataframe thead th {\n",
       "        text-align: right;\n",
       "    }\n",
       "</style>\n",
       "<table border=\"1\" class=\"dataframe\">\n",
       "  <thead>\n",
       "    <tr style=\"text-align: right;\">\n",
       "      <th></th>\n",
       "      <th>total</th>\n",
       "      <th>JDG</th>\n",
       "      <th>GDL</th>\n",
       "    </tr>\n",
       "  </thead>\n",
       "  <tbody>\n",
       "    <tr>\n",
       "      <th>J.-L.L.</th>\n",
       "      <td>154</td>\n",
       "      <td>75</td>\n",
       "      <td>79</td>\n",
       "    </tr>\n",
       "    <tr>\n",
       "      <th>H.V.</th>\n",
       "      <td>24</td>\n",
       "      <td>24</td>\n",
       "      <td>0</td>\n",
       "    </tr>\n",
       "    <tr>\n",
       "      <th>A.K.</th>\n",
       "      <td>23</td>\n",
       "      <td>23</td>\n",
       "      <td>0</td>\n",
       "    </tr>\n",
       "    <tr>\n",
       "      <th>S.A.</th>\n",
       "      <td>28</td>\n",
       "      <td>21</td>\n",
       "      <td>7</td>\n",
       "    </tr>\n",
       "    <tr>\n",
       "      <th>J.R.</th>\n",
       "      <td>34</td>\n",
       "      <td>16</td>\n",
       "      <td>18</td>\n",
       "    </tr>\n",
       "  </tbody>\n",
       "</table>\n",
       "</div>"
      ],
      "text/plain": [
       "         total  JDG  GDL\n",
       "J.-L.L.    154   75   79\n",
       "H.V.        24   24    0\n",
       "A.K.        23   23    0\n",
       "S.A.        28   21    7\n",
       "J.R.        34   16   18"
      ]
     },
     "execution_count": 21,
     "metadata": {},
     "output_type": "execute_result"
    }
   ],
   "source": [
    "initials_counts.sort_values(\"JDG\", ascending=False).head()"
   ]
  },
  {
   "cell_type": "code",
   "execution_count": 22,
   "metadata": {},
   "outputs": [],
   "source": [
    "frequent_initials = initials_counts.head(12).index"
   ]
  },
  {
   "cell_type": "code",
   "execution_count": 23,
   "metadata": {},
   "outputs": [
    {
     "data": {
      "text/plain": [
       "21"
      ]
     },
     "execution_count": 23,
     "metadata": {},
     "output_type": "execute_result"
    }
   ],
   "source": [
    "(initials_indexes & agency_indexes).sum()"
   ]
  },
  {
   "cell_type": "code",
   "execution_count": 24,
   "metadata": {},
   "outputs": [
    {
     "name": "stdout",
     "output_type": "stream",
     "text": [
      "{'Jean-Luc Lederrey'}\n",
      "F.L.\n",
      "{'Jean Roussel'}\n",
      "G.R.\n",
      "{'Sylvie Arsever'}\n",
      "{'Henri Villy'}\n",
      "{'André Klopmann'}\n",
      "{'Jacques-Simon Eggly'}\n",
      "{'André Vallana', 'Anton Vos'}\n",
      "M.-J.K.\n",
      "{'Pierre Novello'}\n",
      "V.S.\n"
     ]
    }
   ],
   "source": [
    "with open(DATA_FOLDER + \"authors_jdg.txt\", \"r\") as f:\n",
    "    authors_jdg_list = f.read()\n",
    "\n",
    "# a map from initials to the set of authors with thos initials\n",
    "authors_jdg = {}\n",
    "for author in authors_jdg_list.split(\"\\n\"):\n",
    "    initials = \"\"\n",
    "    for name_part in author.split(\" \"):\n",
    "        if \"-\" in name_part:\n",
    "            single_name = name_part.split(\"-\")\n",
    "            initials += single_name[0][:1] + \".-\" + single_name[1][:1] + \".\"\n",
    "        else:\n",
    "            initials += name_part[:1] + \".\"\n",
    "\n",
    "    if len(initials) > 1:\n",
    "        if initials in authors_jdg:\n",
    "            authors_jdg[initials].add(author)\n",
    "        else:\n",
    "            authors_jdg[initials] = set([author])\n",
    "\n",
    "\n",
    "for initials in frequent_initials:\n",
    "    if initials in authors_jdg:\n",
    "        print(authors_jdg[initials])\n",
    "    else:\n",
    "        print(initials)"
   ]
  },
  {
   "cell_type": "markdown",
   "metadata": {},
   "source": [
    "#### Author's full name"
   ]
  },
  {
   "cell_type": "code",
   "execution_count": 25,
   "metadata": {},
   "outputs": [],
   "source": [
    "from functools import reduce\n",
    "\n",
    "authors_jdg_set = reduce(lambda s1, s2: s1 | s2, authors_jdg.values())\n",
    "jdg_pattern = \"(\" + \"|\".join(authors_jdg_set) + \")\"\n",
    "\n",
    "full_name = (\n",
    "    articles.fulltext.str.extract(jdg_pattern, flags=re.IGNORECASE)[0]\n",
    "    .dropna()\n",
    "    .str.lower()\n",
    "    .str.strip()\n",
    ")"
   ]
  },
  {
   "cell_type": "code",
   "execution_count": 26,
   "metadata": {},
   "outputs": [
    {
     "name": "stdout",
     "output_type": "stream",
     "text": [
      "1772\n",
      "2670\n"
     ]
    },
    {
     "data": {
      "image/png": "[encoded data removed]",
      "text/plain": [
       "<Figure size 864x432 with 1 Axes>"
      ]
     },
     "metadata": {
      "image/png": {
       "height": 358,
       "width": 725
      },
      "needs_background": "light"
     },
     "output_type": "display_data"
    }
   ],
   "source": [
    "full_name_indexes = articles.index.isin(full_name.index)\n",
    "print(full_name_indexes.sum())\n",
    "\n",
    "attributed_indexes = full_name_indexes | initials_indexes\n",
    "print(attributed_indexes.sum())\n",
    "\n",
    "year_hist(articles[attributed_indexes]);\n",
    "year_hist(articles[attributed_indexes & banking_indexes]);\n",
    "\n",
    "plt.axis(xmin=1950);\n",
    "plt.ylabel(\"nombre d'articles\")\n",
    "plt.legend([\"corpus\", \"sous-corpus\"]);\n",
    "\n",
    "plt.savefig(\"../rapport/methodology/author_attributed.png\", dpi=200)"
   ]
  },
  {
   "cell_type": "code",
   "execution_count": 41,
   "metadata": {},
   "outputs": [
    {
     "data": {
      "image/png": "[encoded data removed]",
      "text/plain": [
       "<Figure size 864x432 with 1 Axes>"
      ]
     },
     "metadata": {
      "image/png": {
       "height": 358,
       "width": 719
      },
      "needs_background": "light"
     },
     "output_type": "display_data"
    }
   ],
   "source": [
    "year_hist(articles[agency_indexes & banking_indexes])\n",
    "year_hist(articles[attributed_indexes & banking_indexes], alpha=0.8)\n",
    "year_hist(articles[foreign_agency_indexes & banking_indexes], alpha=0.6)\n",
    "\n",
    "plt.legend([\"agences de presse\", \"auteurs propres\", \"agences étrangères\"])\n",
    "plt.savefig(\"../rapport/analysis/authors_agency_count.png\", dpi=200)"
   ]
  },
  {
   "cell_type": "code",
   "execution_count": 28,
   "metadata": {},
   "outputs": [
    {
     "data": {
      "text/plain": [
       "jean-luc lederrey      55\n",
       "jacques-simon eggly    52\n",
       "françoise blaser       11\n",
       "sylvie arsever         10\n",
       "françoise buffat        8\n",
       "pierre novello          7\n",
       "isabelle martin         4\n",
       "jasmine audemars        4\n",
       "olivier reverdin        3\n",
       "michel petitpierre      3\n",
       "paul ladame             2\n",
       "nuno sepulveda          2\n",
       "marian stepczynski      2\n",
       "pascal garcin           1\n",
       "jean-claude poulin      1\n",
       "martine lamunière       1\n",
       "henri villy             1\n",
       "claude monnier          1\n",
       "Name: 0, dtype: int64"
      ]
     },
     "execution_count": 28,
     "metadata": {},
     "output_type": "execute_result"
    }
   ],
   "source": [
    "full_name[banking_indexes & (articles.date.dt.year <= 1990)].value_counts()"
   ]
  },
  {
   "cell_type": "code",
   "execution_count": 29,
   "metadata": {},
   "outputs": [
    {
     "data": {
      "text/plain": [
       "J.-L.L.    31\n",
       "J.R.       10\n",
       "D.-S.M.     7\n",
       "S.A.        6\n",
       "J.-S.E.     5\n",
       "A.-M.L.     5\n",
       "H.V.        4\n",
       "H.S.        3\n",
       "G.P.        3\n",
       "M.S.        2\n",
       "F.W.        2\n",
       "D.A.        2\n",
       "J.-C.R.     2\n",
       "X.P.        2\n",
       "V.S.        2\n",
       "M.-J.K.     2\n",
       "R.L.        1\n",
       "A.W.        1\n",
       "J.-P.G.     1\n",
       "C.-E.L.     1\n",
       "J.A.        1\n",
       "M.P.        1\n",
       "C.M.        1\n",
       "F.B.        1\n",
       "R.D.        1\n",
       "F.L.        1\n",
       "J.1.L.      1\n",
       "J.S.        1\n",
       "R.R.        1\n",
       "J.S.E.      1\n",
       "P.-A.S.     1\n",
       "M.K.        1\n",
       "-H.P.       1\n",
       "-E.R.       1\n",
       "G.D.        1\n",
       "Name: 0, dtype: int64"
      ]
     },
     "execution_count": 29,
     "metadata": {},
     "output_type": "execute_result"
    }
   ],
   "source": [
    "initials_matches[banking_indexes & (articles.date.dt.year <= 1990)].value_counts()"
   ]
  },
  {
   "cell_type": "markdown",
   "metadata": {},
   "source": [
    "#### Rédaction"
   ]
  },
  {
   "cell_type": "code",
   "execution_count": 30,
   "metadata": {},
   "outputs": [
    {
     "data": {
      "text/plain": [
       "261"
      ]
     },
     "execution_count": 30,
     "metadata": {},
     "output_type": "execute_result"
    }
   ],
   "source": [
    "red_indexes = articles.fulltext.str.contains(\"\\([R|r][é|e]d\\.?\\)\")\n",
    "red_indexes.sum()"
   ]
  },
  {
   "cell_type": "code",
   "execution_count": 31,
   "metadata": {},
   "outputs": [
    {
     "data": {
      "text/plain": [
       "105"
      ]
     },
     "execution_count": 31,
     "metadata": {},
     "output_type": "execute_result"
    }
   ],
   "source": [
    "(red_indexes & (ats_indexes | afp_indexes | initials_indexes)).sum()"
   ]
  },
  {
   "cell_type": "markdown",
   "metadata": {},
   "source": [
    "--> too much overlap! Don't use."
   ]
  },
  {
   "cell_type": "code",
   "execution_count": 32,
   "metadata": {
    "scrolled": false
   },
   "outputs": [
    {
     "data": {
      "text/html": [
       "<div>\n",
       "<style scoped>\n",
       "    .dataframe tbody tr th:only-of-type {\n",
       "        vertical-align: middle;\n",
       "    }\n",
       "\n",
       "    .dataframe tbody tr th {\n",
       "        vertical-align: top;\n",
       "    }\n",
       "\n",
       "    .dataframe thead th {\n",
       "        text-align: right;\n",
       "    }\n",
       "</style>\n",
       "<table border=\"1\" class=\"dataframe\">\n",
       "  <thead>\n",
       "    <tr style=\"text-align: right;\">\n",
       "      <th></th>\n",
       "      <th>date</th>\n",
       "      <th>fulltext</th>\n",
       "      <th>id</th>\n",
       "      <th>pages</th>\n",
       "      <th>title</th>\n",
       "      <th>type</th>\n",
       "    </tr>\n",
       "  </thead>\n",
       "  <tbody>\n",
       "    <tr>\n",
       "      <th>24542</th>\n",
       "      <td>1972-08-07</td>\n",
       "      <td>,.,'. H ~! l '\" '\" BI'O'cage' -de comptes etor...</td>\n",
       "      <td>JDG-1972-08-07-a-i0010</td>\n",
       "      <td>[5]</td>\n",
       "      <td>BI'O'cage'-de comptes etor[1 .0\" numérotés: le...</td>\n",
       "      <td>ar</td>\n",
       "    </tr>\n",
       "    <tr>\n",
       "      <th>12296</th>\n",
       "      <td>1973-03-13</td>\n",
       "      <td>Beyrouth s'affirme comme capitale du monde fin...</td>\n",
       "      <td>GDL-1973-03-13-a-i0103</td>\n",
       "      <td>[9]</td>\n",
       "      <td>Beyrouth s'affirme comme capitale du monde fin...</td>\n",
       "      <td>ar</td>\n",
       "    </tr>\n",
       "    <tr>\n",
       "      <th>25079</th>\n",
       "      <td>1974-12-13</td>\n",
       "      <td>La presse algérienne critique violemment la Su...</td>\n",
       "      <td>JDG-1974-12-13-a-i0003</td>\n",
       "      <td>[11]</td>\n",
       "      <td>La presse algérienne critique violemment la Su...</td>\n",
       "      <td>ar</td>\n",
       "    </tr>\n",
       "    <tr>\n",
       "      <th>12511</th>\n",
       "      <td>1974-12-13</td>\n",
       "      <td>La presse algérienne critique violemment la Su...</td>\n",
       "      <td>GDL-1974-12-13-a-i0116</td>\n",
       "      <td>[11]</td>\n",
       "      <td>La presse algérienne critique violemment la Su...</td>\n",
       "      <td>ar</td>\n",
       "    </tr>\n",
       "    <tr>\n",
       "      <th>25119</th>\n",
       "      <td>1975-02-10</td>\n",
       "      <td>Le fisc britannique et le secret bancaire Lond...</td>\n",
       "      <td>JDG-1975-02-10-a-i0001</td>\n",
       "      <td>[5]</td>\n",
       "      <td>Le fisc britannique et le secret bancaire</td>\n",
       "      <td>ar</td>\n",
       "    </tr>\n",
       "    <tr>\n",
       "      <th>12660</th>\n",
       "      <td>1975-02-10</td>\n",
       "      <td>Le fisc britannique et le secret bancaire Lond...</td>\n",
       "      <td>GDL-1975-02-10-a-i0074</td>\n",
       "      <td>[9]</td>\n",
       "      <td>Le fisc britannique et le secret bancaire</td>\n",
       "      <td>ar</td>\n",
       "    </tr>\n",
       "    <tr>\n",
       "      <th>12704</th>\n",
       "      <td>1975-06-18</td>\n",
       "      <td>Supprimer les comptes numérotés ? Non des banq...</td>\n",
       "      <td>GDL-1975-06-18-a-i0085</td>\n",
       "      <td>[9]</td>\n",
       "      <td>Supprimer les comptes numérotés? Non des banqu...</td>\n",
       "      <td>ar</td>\n",
       "    </tr>\n",
       "    <tr>\n",
       "      <th>25091</th>\n",
       "      <td>1975-06-23</td>\n",
       "      <td>M. Graber favorable à une réforme de la législ...</td>\n",
       "      <td>JDG-1975-06-23-a-i0003</td>\n",
       "      <td>[5]</td>\n",
       "      <td>M. Graber favorable à une réforme de la législ...</td>\n",
       "      <td>ar</td>\n",
       "    </tr>\n",
       "    <tr>\n",
       "      <th>12604</th>\n",
       "      <td>1975-06-23</td>\n",
       "      <td>M. Graber favorable à une réforme de la législ...</td>\n",
       "      <td>GDL-1975-06-23-a-i0077</td>\n",
       "      <td>[8]</td>\n",
       "      <td>M. Graber favorable à une réforme de la législ...</td>\n",
       "      <td>ar</td>\n",
       "    </tr>\n",
       "    <tr>\n",
       "      <th>12721</th>\n",
       "      <td>1975-07-23</td>\n",
       "      <td>Le trafic d'or entre la Suisse et la France se...</td>\n",
       "      <td>GDL-1975-07-23-a-i0074</td>\n",
       "      <td>[7]</td>\n",
       "      <td>Le trafic d'or entre la Suisse et la France se...</td>\n",
       "      <td>ar</td>\n",
       "    </tr>\n",
       "    <tr>\n",
       "      <th>25276</th>\n",
       "      <td>1975-07-23</td>\n",
       "      <td>APRÈS L'ARRESTATION DE TROIS « PASSEURS » Le t...</td>\n",
       "      <td>JDG-1975-07-23-a-i0002</td>\n",
       "      <td>[3]</td>\n",
       "      <td>APRÈS L'ARRESTATION DE TROIS «PASSEURS» Le tra...</td>\n",
       "      <td>ar</td>\n",
       "    </tr>\n",
       "    <tr>\n",
       "      <th>12529</th>\n",
       "      <td>1975-07-26</td>\n",
       "      <td>Curieux manège autour du secret bancaire • Zur...</td>\n",
       "      <td>GDL-1975-07-26-a-i0025</td>\n",
       "      <td>[4]</td>\n",
       "      <td>Curieux manège autour du secret bancaire</td>\n",
       "      <td>ar</td>\n",
       "    </tr>\n",
       "    <tr>\n",
       "      <th>25236</th>\n",
       "      <td>1975-07-26</td>\n",
       "      <td>Curieux manège autour du secret bancaire • Zur...</td>\n",
       "      <td>JDG-1975-07-26-a-i0001</td>\n",
       "      <td>[6]</td>\n",
       "      <td>Curieux manège autour du secret bancaire</td>\n",
       "      <td>ar</td>\n",
       "    </tr>\n",
       "    <tr>\n",
       "      <th>12745</th>\n",
       "      <td>1976-02-27</td>\n",
       "      <td>L'affaire Lockheed Les actionnaires américains...</td>\n",
       "      <td>GDL-1976-02-27-a-i0132</td>\n",
       "      <td>[16]</td>\n",
       "      <td>américains entament une poursuite contre la so...</td>\n",
       "      <td>ar</td>\n",
       "    </tr>\n",
       "    <tr>\n",
       "      <th>25484</th>\n",
       "      <td>1976-02-27</td>\n",
       "      <td>L'affaire Lockheed Les actionnaires américains...</td>\n",
       "      <td>JDG-1976-02-27-a-i0001</td>\n",
       "      <td>[16]</td>\n",
       "      <td>L'affaire Lockheed Les actionnaires américains...</td>\n",
       "      <td>ar</td>\n",
       "    </tr>\n",
       "    <tr>\n",
       "      <th>25405</th>\n",
       "      <td>1976-03-06</td>\n",
       "      <td>Fuite de capitaux en Italie : peines de. priso...</td>\n",
       "      <td>JDG-1976-03-06-a-i0006</td>\n",
       "      <td>[3]</td>\n",
       "      <td>Fuite de capitaux en Italie: peines de.prisoné...</td>\n",
       "      <td>ar</td>\n",
       "    </tr>\n",
       "    <tr>\n",
       "      <th>25396</th>\n",
       "      <td>1976-03-26</td>\n",
       "      <td>A. de aux entreprtses « -debutantes » : \" .. '...</td>\n",
       "      <td>JDG-1976-03-26-a-i0001</td>\n",
       "      <td>[7]</td>\n",
       "      <td>A.de·aux entreprtses « -debutantes» : \" ..'\" p...</td>\n",
       "      <td>ar</td>\n",
       "    </tr>\n",
       "    <tr>\n",
       "      <th>25563</th>\n",
       "      <td>1977-01-25</td>\n",
       "      <td>Entraide judiciaire : entrée en vigueur du tra...</td>\n",
       "      <td>JDG-1977-01-25-a-i0003</td>\n",
       "      <td>[5]</td>\n",
       "      <td>Entraide judiciaire : entrée en vigueur du tra...</td>\n",
       "      <td>ar</td>\n",
       "    </tr>\n",
       "    <tr>\n",
       "      <th>12936</th>\n",
       "      <td>1977-02-26</td>\n",
       "      <td>La Chemical Bank poursuivie pour fraude • New ...</td>\n",
       "      <td>GDL-1977-02-26-a-i0096</td>\n",
       "      <td>[11]</td>\n",
       "      <td>La Chemical Bank poursuivie pour fraude</td>\n",
       "      <td>ar</td>\n",
       "    </tr>\n",
       "    <tr>\n",
       "      <th>25793</th>\n",
       "      <td>1977-02-26</td>\n",
       "      <td>La Chemical Bank pour fraude R 5 New York, 25....</td>\n",
       "      <td>JDG-1977-02-26-a-i0005</td>\n",
       "      <td>[7]</td>\n",
       "      <td>La Chemical Bank pour fraude</td>\n",
       "      <td>ar</td>\n",
       "    </tr>\n",
       "    <tr>\n",
       "      <th>25717</th>\n",
       "      <td>1977-07-08</td>\n",
       "      <td>ÉCONOMIE 'dernière La grande majorité des banq...</td>\n",
       "      <td>JDG-1977-07-08-a-i0007</td>\n",
       "      <td>[16]</td>\n",
       "      <td>ÉCONOMIE 'dernière</td>\n",
       "      <td>ar</td>\n",
       "    </tr>\n",
       "    <tr>\n",
       "      <th>25584</th>\n",
       "      <td>1977-11-05</td>\n",
       "      <td>TT ^ 'M&amp;. Banque italienne : enquête à Côme Ch...</td>\n",
       "      <td>JDG-1977-11-05-a-i0005</td>\n",
       "      <td>[7]</td>\n",
       "      <td>TT ^ ' M&amp; . Banque italienne: enquête à Côme</td>\n",
       "      <td>ar</td>\n",
       "    </tr>\n",
       "  </tbody>\n",
       "</table>\n",
       "</div>"
      ],
      "text/plain": [
       "            date                                           fulltext  \\\n",
       "24542 1972-08-07  ,.,'. H ~! l '\" '\" BI'O'cage' -de comptes etor...   \n",
       "12296 1973-03-13  Beyrouth s'affirme comme capitale du monde fin...   \n",
       "25079 1974-12-13  La presse algérienne critique violemment la Su...   \n",
       "12511 1974-12-13  La presse algérienne critique violemment la Su...   \n",
       "25119 1975-02-10  Le fisc britannique et le secret bancaire Lond...   \n",
       "12660 1975-02-10  Le fisc britannique et le secret bancaire Lond...   \n",
       "12704 1975-06-18  Supprimer les comptes numérotés ? Non des banq...   \n",
       "25091 1975-06-23  M. Graber favorable à une réforme de la législ...   \n",
       "12604 1975-06-23  M. Graber favorable à une réforme de la législ...   \n",
       "12721 1975-07-23  Le trafic d'or entre la Suisse et la France se...   \n",
       "25276 1975-07-23  APRÈS L'ARRESTATION DE TROIS « PASSEURS » Le t...   \n",
       "12529 1975-07-26  Curieux manège autour du secret bancaire • Zur...   \n",
       "25236 1975-07-26  Curieux manège autour du secret bancaire • Zur...   \n",
       "12745 1976-02-27  L'affaire Lockheed Les actionnaires américains...   \n",
       "25484 1976-02-27  L'affaire Lockheed Les actionnaires américains...   \n",
       "25405 1976-03-06  Fuite de capitaux en Italie : peines de. priso...   \n",
       "25396 1976-03-26  A. de aux entreprtses « -debutantes » : \" .. '...   \n",
       "25563 1977-01-25  Entraide judiciaire : entrée en vigueur du tra...   \n",
       "12936 1977-02-26  La Chemical Bank poursuivie pour fraude • New ...   \n",
       "25793 1977-02-26  La Chemical Bank pour fraude R 5 New York, 25....   \n",
       "25717 1977-07-08  ÉCONOMIE 'dernière La grande majorité des banq...   \n",
       "25584 1977-11-05  TT ^ 'M&. Banque italienne : enquête à Côme Ch...   \n",
       "\n",
       "                           id pages  \\\n",
       "24542  JDG-1972-08-07-a-i0010   [5]   \n",
       "12296  GDL-1973-03-13-a-i0103   [9]   \n",
       "25079  JDG-1974-12-13-a-i0003  [11]   \n",
       "12511  GDL-1974-12-13-a-i0116  [11]   \n",
       "25119  JDG-1975-02-10-a-i0001   [5]   \n",
       "12660  GDL-1975-02-10-a-i0074   [9]   \n",
       "12704  GDL-1975-06-18-a-i0085   [9]   \n",
       "25091  JDG-1975-06-23-a-i0003   [5]   \n",
       "12604  GDL-1975-06-23-a-i0077   [8]   \n",
       "12721  GDL-1975-07-23-a-i0074   [7]   \n",
       "25276  JDG-1975-07-23-a-i0002   [3]   \n",
       "12529  GDL-1975-07-26-a-i0025   [4]   \n",
       "25236  JDG-1975-07-26-a-i0001   [6]   \n",
       "12745  GDL-1976-02-27-a-i0132  [16]   \n",
       "25484  JDG-1976-02-27-a-i0001  [16]   \n",
       "25405  JDG-1976-03-06-a-i0006   [3]   \n",
       "25396  JDG-1976-03-26-a-i0001   [7]   \n",
       "25563  JDG-1977-01-25-a-i0003   [5]   \n",
       "12936  GDL-1977-02-26-a-i0096  [11]   \n",
       "25793  JDG-1977-02-26-a-i0005   [7]   \n",
       "25717  JDG-1977-07-08-a-i0007  [16]   \n",
       "25584  JDG-1977-11-05-a-i0005   [7]   \n",
       "\n",
       "                                                   title type  \n",
       "24542  BI'O'cage'-de comptes etor[1 .0\" numérotés: le...   ar  \n",
       "12296  Beyrouth s'affirme comme capitale du monde fin...   ar  \n",
       "25079  La presse algérienne critique violemment la Su...   ar  \n",
       "12511  La presse algérienne critique violemment la Su...   ar  \n",
       "25119          Le fisc britannique et le secret bancaire   ar  \n",
       "12660          Le fisc britannique et le secret bancaire   ar  \n",
       "12704  Supprimer les comptes numérotés? Non des banqu...   ar  \n",
       "25091  M. Graber favorable à une réforme de la législ...   ar  \n",
       "12604  M. Graber favorable à une réforme de la législ...   ar  \n",
       "12721  Le trafic d'or entre la Suisse et la France se...   ar  \n",
       "25276  APRÈS L'ARRESTATION DE TROIS «PASSEURS» Le tra...   ar  \n",
       "12529           Curieux manège autour du secret bancaire   ar  \n",
       "25236           Curieux manège autour du secret bancaire   ar  \n",
       "12745  américains entament une poursuite contre la so...   ar  \n",
       "25484  L'affaire Lockheed Les actionnaires américains...   ar  \n",
       "25405  Fuite de capitaux en Italie: peines de.prisoné...   ar  \n",
       "25396  A.de·aux entreprtses « -debutantes» : \" ..'\" p...   ar  \n",
       "25563  Entraide judiciaire : entrée en vigueur du tra...   ar  \n",
       "12936            La Chemical Bank poursuivie pour fraude   ar  \n",
       "25793                       La Chemical Bank pour fraude   ar  \n",
       "25717                                 ÉCONOMIE 'dernière   ar  \n",
       "25584       TT ^ ' M& . Banque italienne: enquête à Côme   ar  "
      ]
     },
     "execution_count": 32,
     "metadata": {},
     "output_type": "execute_result"
    }
   ],
   "source": [
    "articles[\n",
    "    foreign_agency_indexes\n",
    "    & banking_indexes\n",
    "    & (articles.date.dt.year >= 1972)\n",
    "    & (articles.date.dt.year <= 1977)\n",
    "].sort_values(\"date\")"
   ]
  },
  {
   "cell_type": "code",
   "execution_count": null,
   "metadata": {},
   "outputs": [],
   "source": []
  }
 ],
 "metadata": {
  "kernelspec": {
   "display_name": "Python 3",
   "language": "python",
   "name": "python3"
  },
  "language_info": {
   "codemirror_mode": {
    "name": "ipython",
    "version": 3
   },
   "file_extension": ".py",
   "mimetype": "text/x-python",
   "name": "python",
   "nbconvert_exporter": "python",
   "pygments_lexer": "ipython3",
   "version": "3.6.8"
  }
 },
 "nbformat": 4,
 "nbformat_minor": 2
}
