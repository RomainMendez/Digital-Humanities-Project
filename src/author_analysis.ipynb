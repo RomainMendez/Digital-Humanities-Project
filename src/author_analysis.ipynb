{
 "cells": [
  {
   "cell_type": "markdown",
   "metadata": {},
   "source": [
    "# Author analysis\n"
   ]
  },
  {
   "cell_type": "code",
   "execution_count": 14,
   "metadata": {},
   "outputs": [
    {
     "name": "stdout",
     "output_type": "stream",
     "text": [
      "The blackcellmagic extension is already loaded. To reload it, use:\n",
      "  %reload_ext blackcellmagic\n"
     ]
    }
   ],
   "source": [
    "import re\n",
    "import pandas as pd\n",
    "import numpy as np\n",
    "import matplotlib.pyplot as plt\n",
    "%config InlineBackend.figure_format = 'retina'\n",
    "\n",
    "DATA_FOLDER = \"../data/\"\n",
    "\n",
    "%load_ext blackcellmagic"
   ]
  },
  {
   "cell_type": "code",
   "execution_count": 15,
   "metadata": {},
   "outputs": [],
   "source": [
    "plt.rcParams['figure.figsize'] = [12, 6]"
   ]
  },
  {
   "cell_type": "code",
   "execution_count": 16,
   "metadata": {},
   "outputs": [],
   "source": [
    "articles = pd.read_json(DATA_FOLDER + \"filtered.jsonl\", lines=True)"
   ]
  },
  {
   "cell_type": "code",
   "execution_count": 17,
   "metadata": {
    "scrolled": false
   },
   "outputs": [
    {
     "data": {
      "text/html": [
       "<div>\n",
       "<style scoped>\n",
       "    .dataframe tbody tr th:only-of-type {\n",
       "        vertical-align: middle;\n",
       "    }\n",
       "\n",
       "    .dataframe tbody tr th {\n",
       "        vertical-align: top;\n",
       "    }\n",
       "\n",
       "    .dataframe thead th {\n",
       "        text-align: right;\n",
       "    }\n",
       "</style>\n",
       "<table border=\"1\" class=\"dataframe\">\n",
       "  <thead>\n",
       "    <tr style=\"text-align: right;\">\n",
       "      <th></th>\n",
       "      <th>date</th>\n",
       "      <th>fulltext</th>\n",
       "      <th>id</th>\n",
       "      <th>pages</th>\n",
       "      <th>title</th>\n",
       "      <th>type</th>\n",
       "    </tr>\n",
       "  </thead>\n",
       "  <tbody>\n",
       "    <tr>\n",
       "      <th>0</th>\n",
       "      <td>1900-10-15</td>\n",
       "      <td>CONFÉDÉRATION S 01 SSE Militaire. — Le départe...</td>\n",
       "      <td>GDL-1900-10-15-a-i0014</td>\n",
       "      <td>[2]</td>\n",
       "      <td>CONFÉDÉRATION S01SSE</td>\n",
       "      <td>ar</td>\n",
       "    </tr>\n",
       "    <tr>\n",
       "      <th>1</th>\n",
       "      <td>1900-02-03</td>\n",
       "      <td>CONFÉDÉRATION SOISSE Nominations. — Le Conseil...</td>\n",
       "      <td>GDL-1900-02-03-a-i0013</td>\n",
       "      <td>[2]</td>\n",
       "      <td>CONFÉDÉRATION SOISSE</td>\n",
       "      <td>ar</td>\n",
       "    </tr>\n",
       "    <tr>\n",
       "      <th>2</th>\n",
       "      <td>1900-08-06</td>\n",
       "      <td>CONFÉDÉRATION SUISSE Drainage des écus. — D'ap...</td>\n",
       "      <td>GDL-1900-08-06-a-i0014</td>\n",
       "      <td>[2]</td>\n",
       "      <td>CONFÉDÉRATION SUISSE</td>\n",
       "      <td>ar</td>\n",
       "    </tr>\n",
       "    <tr>\n",
       "      <th>3</th>\n",
       "      <td>1900-02-15</td>\n",
       "      <td>Le drainage des éens. Genève, 14 février. Lund...</td>\n",
       "      <td>GDL-1900-02-15-a-i0006</td>\n",
       "      <td>[1]</td>\n",
       "      <td>Le drainage des éens.</td>\n",
       "      <td>ar</td>\n",
       "    </tr>\n",
       "    <tr>\n",
       "      <th>4</th>\n",
       "      <td>1900-06-11</td>\n",
       "      <td>CONFÉDÉRATION SOISS Sonnerie de cloches. — Le ...</td>\n",
       "      <td>GDL-1900-06-11-a-i0015</td>\n",
       "      <td>[2]</td>\n",
       "      <td>CONFÉDÉRATION SOISS</td>\n",
       "      <td>ar</td>\n",
       "    </tr>\n",
       "    <tr>\n",
       "      <th>5</th>\n",
       "      <td>1900-05-25</td>\n",
       "      <td>CONFÉDÉRATION SUISSE Expulsions. — Le Conseil ...</td>\n",
       "      <td>GDL-1900-05-25-a-i0010</td>\n",
       "      <td>[2]</td>\n",
       "      <td>CONFÉDÉRATION SUISSE</td>\n",
       "      <td>ar</td>\n",
       "    </tr>\n",
       "    <tr>\n",
       "      <th>6</th>\n",
       "      <td>1900-05-26</td>\n",
       "      <td>BULLETIN POLITIQUE Lausanne, 26 mai 1900. lie ...</td>\n",
       "      <td>GDL-1900-05-26-a-i0002</td>\n",
       "      <td>[1]</td>\n",
       "      <td>BULLETIN POLITIQUE</td>\n",
       "      <td>ar</td>\n",
       "    </tr>\n",
       "    <tr>\n",
       "      <th>7</th>\n",
       "      <td>1900-09-08</td>\n",
       "      <td>KOUVELiES DES CANTONS BERNE. — L'institut vacc...</td>\n",
       "      <td>GDL-1900-09-08-a-i0016</td>\n",
       "      <td>[2]</td>\n",
       "      <td>KOUVELiES DES CANTONS</td>\n",
       "      <td>ar</td>\n",
       "    </tr>\n",
       "    <tr>\n",
       "      <th>8</th>\n",
       "      <td>1900-11-22</td>\n",
       "      <td>CONFÉDÉRATION SUISSE Budget. — La commission d...</td>\n",
       "      <td>GDL-1900-11-22-a-i0013</td>\n",
       "      <td>[2]</td>\n",
       "      <td>CONFÉDÉRATION SUISSE</td>\n",
       "      <td>ar</td>\n",
       "    </tr>\n",
       "    <tr>\n",
       "      <th>9</th>\n",
       "      <td>1900-11-24</td>\n",
       "      <td>CONFÉDÉRATION SUISSE Chemins de fer. — Le Cons...</td>\n",
       "      <td>GDL-1900-11-24-a-i0015</td>\n",
       "      <td>[2]</td>\n",
       "      <td>CONFÉDÉRATION SUISSE Chemins de fer. — Le Cons...</td>\n",
       "      <td>ar</td>\n",
       "    </tr>\n",
       "  </tbody>\n",
       "</table>\n",
       "</div>"
      ],
      "text/plain": [
       "        date                                           fulltext  \\\n",
       "0 1900-10-15  CONFÉDÉRATION S 01 SSE Militaire. — Le départe...   \n",
       "1 1900-02-03  CONFÉDÉRATION SOISSE Nominations. — Le Conseil...   \n",
       "2 1900-08-06  CONFÉDÉRATION SUISSE Drainage des écus. — D'ap...   \n",
       "3 1900-02-15  Le drainage des éens. Genève, 14 février. Lund...   \n",
       "4 1900-06-11  CONFÉDÉRATION SOISS Sonnerie de cloches. — Le ...   \n",
       "5 1900-05-25  CONFÉDÉRATION SUISSE Expulsions. — Le Conseil ...   \n",
       "6 1900-05-26  BULLETIN POLITIQUE Lausanne, 26 mai 1900. lie ...   \n",
       "7 1900-09-08  KOUVELiES DES CANTONS BERNE. — L'institut vacc...   \n",
       "8 1900-11-22  CONFÉDÉRATION SUISSE Budget. — La commission d...   \n",
       "9 1900-11-24  CONFÉDÉRATION SUISSE Chemins de fer. — Le Cons...   \n",
       "\n",
       "                       id pages  \\\n",
       "0  GDL-1900-10-15-a-i0014   [2]   \n",
       "1  GDL-1900-02-03-a-i0013   [2]   \n",
       "2  GDL-1900-08-06-a-i0014   [2]   \n",
       "3  GDL-1900-02-15-a-i0006   [1]   \n",
       "4  GDL-1900-06-11-a-i0015   [2]   \n",
       "5  GDL-1900-05-25-a-i0010   [2]   \n",
       "6  GDL-1900-05-26-a-i0002   [1]   \n",
       "7  GDL-1900-09-08-a-i0016   [2]   \n",
       "8  GDL-1900-11-22-a-i0013   [2]   \n",
       "9  GDL-1900-11-24-a-i0015   [2]   \n",
       "\n",
       "                                               title type  \n",
       "0                               CONFÉDÉRATION S01SSE   ar  \n",
       "1                               CONFÉDÉRATION SOISSE   ar  \n",
       "2                               CONFÉDÉRATION SUISSE   ar  \n",
       "3                              Le drainage des éens.   ar  \n",
       "4                                CONFÉDÉRATION SOISS   ar  \n",
       "5                               CONFÉDÉRATION SUISSE   ar  \n",
       "6                                 BULLETIN POLITIQUE   ar  \n",
       "7                              KOUVELiES DES CANTONS   ar  \n",
       "8                               CONFÉDÉRATION SUISSE   ar  \n",
       "9  CONFÉDÉRATION SUISSE Chemins de fer. — Le Cons...   ar  "
      ]
     },
     "execution_count": 17,
     "metadata": {},
     "output_type": "execute_result"
    }
   ],
   "source": [
    "articles.head(10)"
   ]
  },
  {
   "cell_type": "code",
   "execution_count": 18,
   "metadata": {},
   "outputs": [
    {
     "data": {
      "text/plain": [
       "34582"
      ]
     },
     "execution_count": 18,
     "metadata": {},
     "output_type": "execute_result"
    }
   ],
   "source": [
    "len(articles)"
   ]
  },
  {
   "cell_type": "code",
   "execution_count": 19,
   "metadata": {},
   "outputs": [
    {
     "name": "stdout",
     "output_type": "stream",
     "text": [
      "JDG:  13487 \n",
      "GDL:  21095\n"
     ]
    }
   ],
   "source": [
    "jdg_indexes = articles.id.str.contains(\"JDG\")\n",
    "gdl_indexes = articles.id.str.contains(\"GDL\")\n",
    "\n",
    "print(\n",
    "    \"JDG: \",\n",
    "    jdg_indexes.sum(),\n",
    "    \"\\nGDL: \",\n",
    "    gdl_indexes.sum()\n",
    ")"
   ]
  },
  {
   "cell_type": "code",
   "execution_count": 20,
   "metadata": {},
   "outputs": [
    {
     "data": {
      "text/plain": [
       "1737"
      ]
     },
     "execution_count": 20,
     "metadata": {},
     "output_type": "execute_result"
    }
   ],
   "source": [
    "banking_indexes =  articles.fulltext.str.lower().str.contains(\"secret bancaire\")\n",
    "banking_indexes.sum()"
   ]
  },
  {
   "cell_type": "code",
   "execution_count": 21,
   "metadata": {},
   "outputs": [
    {
     "data": {
      "text/plain": [
       "0.050228442542363076"
      ]
     },
     "execution_count": 21,
     "metadata": {},
     "output_type": "execute_result"
    }
   ],
   "source": [
    "banking_indexes.sum() / articles.id.count()"
   ]
  },
  {
   "cell_type": "markdown",
   "metadata": {},
   "source": [
    "## Different types of authors\n",
    "\n",
    "#### Agencies\n",
    "\n",
    "- **ATS** Agence télégraphique suisse\n",
    "- **AFP** Agence France-Presse\n",
    "- **Reuters** \n",
    "- **AP**: Associated press"
   ]
  },
  {
   "cell_type": "code",
   "execution_count": 22,
   "metadata": {
    "scrolled": false
   },
   "outputs": [
    {
     "name": "stderr",
     "output_type": "stream",
     "text": [
      "/Users/yann/Applications/anaconda3/lib/python3.6/site-packages/ipykernel_launcher.py:2: UserWarning: This pattern has match groups. To actually get the groups, use str.extract.\n",
      "  \n"
     ]
    },
    {
     "data": {
      "text/plain": [
       "6355"
      ]
     },
     "execution_count": 22,
     "metadata": {},
     "output_type": "execute_result"
    }
   ],
   "source": [
    "def agency_indexes(agency_pattern):\n",
    "    return articles.fulltext.str.lower().str.contains(agency_pattern)\n",
    "\n",
    "ats_indexes = agency_indexes(r\"\\(a\\.?t\\.?s\\.?\\)\")\n",
    "ap_indexes = agency_indexes(r\"\\((a\\.?p\\.?|associated press\\.?)\\)\")\n",
    "afp_indexes = agency_indexes(r\"\\(a\\.?f\\.?p\\.?\\)\")\n",
    "reuter_indexes = agency_indexes(r\"\\(reuters?\\.?\\)\")\n",
    "\n",
    "foreign_agency_indexes = ap_indexes | afp_indexes | reuter_indexes\n",
    "agency_indexes = ats_indexes | foreign_agency_indexes\n",
    "agency_indexes.sum()\n"
   ]
  },
  {
   "cell_type": "code",
   "execution_count": 23,
   "metadata": {
    "scrolled": true
   },
   "outputs": [
    {
     "data": {
      "text/plain": [
       "0.2867012089810017"
      ]
     },
     "execution_count": 23,
     "metadata": {},
     "output_type": "execute_result"
    }
   ],
   "source": [
    "(banking_indexes & agency_indexes).sum() / banking_indexes.sum()"
   ]
  },
  {
   "cell_type": "code",
   "execution_count": 24,
   "metadata": {},
   "outputs": [
    {
     "data": {
      "text/plain": [
       "0.18376612110346424"
      ]
     },
     "execution_count": 24,
     "metadata": {},
     "output_type": "execute_result"
    }
   ],
   "source": [
    "agency_indexes.sum() / articles.shape[0]"
   ]
  },
  {
   "cell_type": "code",
   "execution_count": 25,
   "metadata": {
    "scrolled": false
   },
   "outputs": [],
   "source": [
    "def year_series(series):\n",
    "    year_series = series.date.dt.year\n",
    "    delta_years = year_series.max() - year_series.min()   \n",
    "    return year_series, delta_years\n",
    "    \n",
    "\n",
    "def year_hist(series):\n",
    "    years, bins = year_series(series)\n",
    "    plt.ylabel(\"nombre d'articles\")\n",
    "    return years.hist(bins=bins)"
   ]
  },
  {
   "cell_type": "code",
   "execution_count": 26,
   "metadata": {},
   "outputs": [
    {
     "data": {
      "image/png": "[encoded data removed]",
      "text/plain": [
       "<Figure size 864x432 with 1 Axes>"
      ]
     },
     "metadata": {
      "image/png": {
       "height": 358,
       "width": 729
      },
      "needs_background": "light"
     },
     "output_type": "display_data"
    }
   ],
   "source": [
    "year_hist(articles[banking_indexes])\n",
    "year_hist(articles[banking_indexes & agency_indexes]);\n",
    "\n",
    "plt.legend([\n",
    "    \"Articles 'secret bancaire'\", \n",
    "    \"Articles d'agences 'secret bancaire'\"\n",
    "]);\n",
    "plt.savefig(\"../rapport/analysis/angency_banking_hist.png\", dpi=200);"
   ]
  },
  {
   "cell_type": "code",
   "execution_count": 29,
   "metadata": {},
   "outputs": [
    {
     "data": {
      "image/png": "[encoded data removed]",
      "text/plain": [
       "<Figure size 864x432 with 1 Axes>"
      ]
     },
     "metadata": {
      "image/png": {
       "height": 376,
       "width": 725
      },
      "needs_background": "light"
     },
     "output_type": "display_data"
    }
   ],
   "source": [
    "years = range(1965, 1998)\n",
    "\n",
    "ats_banking_series, _ = year_series(articles[ats_indexes & banking_indexes])\n",
    "for_banking_series, _ = year_series(articles[foreign_agency_indexes & banking_indexes])\n",
    "\n",
    "ats_banking_hist, _ = np.histogram(ats_banking_series, bins=years)\n",
    "for_banking_hist, _ = np.histogram(for_banking_series, bins=years)\n",
    "\n",
    "total = ats_banking_hist + for_banking_hist\n",
    "ats_percentage = 100.0 * ats_banking_hist / total\n",
    "for_percentage = 100.0 * for_banking_hist / total\n",
    "\n",
    "plt.bar(\n",
    "    np.array(years[:-1]),\n",
    "    ats_percentage,\n",
    "    label=\"ATS\",\n",
    ")\n",
    "\n",
    "plt.bar(\n",
    "    np.array(years[:-1]),\n",
    "    for_percentage,\n",
    "    bottom=ats_percentage,\n",
    "    label=\"agences étrangères\",\n",
    ")\n",
    "\n",
    "plt.legend()\n",
    "plt.ylabel(\"pourcentage [%]\")\n",
    "plt.grid(axis='y')\n",
    "\n",
    "plt.xticks(years[:-1], rotation=50)\n",
    "plt.savefig(\"../rapport/analysis/agency_percentage.png\", dpi=200);"
   ]
  },
  {
   "cell_type": "markdown",
   "metadata": {},
   "source": [
    "#### Authors"
   ]
  },
  {
   "cell_type": "code",
   "execution_count": 11,
   "metadata": {
    "scrolled": true
   },
   "outputs": [
    {
     "data": {
      "text/plain": [
       "'MARCHÉ DES CAPITAUX Syndicats d\\'émissions : les grandes banques libéralisent ,.\\'-il. : L\\'. ,.... „, ; ,. : .,, (. 1 \\'\" Les trois grandes banques suisses ont annonce mercredi qu\\'elles s\\'apprêtaient à ouvrir sous certaines conditions, leur syndicat d\\'émission d\\'emprunts sur le marché suisse des capitaux, à des émissions dirigées par des banques étrangères établies en Suisse. Des détails sur cène mesure de libéralisation, qui répond à l\\'internationalisation croissante du marché des capitaux, seront gués ultérieurement, ont annoncé les trois grandes banques (UBS, Crédit Suisse et SBS) dans un communiqué. J .-L. L. '"
      ]
     },
     "execution_count": 11,
     "metadata": {},
     "output_type": "execute_result"
    }
   ],
   "source": [
    "fulltext = articles[articles.id.str.contains(\"JDG-1987-08-13\")].iloc[0].fulltext\n",
    "fulltext"
   ]
  },
  {
   "cell_type": "code",
   "execution_count": 12,
   "metadata": {},
   "outputs": [
    {
     "data": {
      "text/plain": [
       "<_sre.SRE_Match object; span=(596, 618), match='communiqué. J .-L. L. '>"
      ]
     },
     "execution_count": 12,
     "metadata": {},
     "output_type": "execute_result"
    }
   ],
   "source": [
    "initials_pattern = r\"\\w{2,}\\s*\\.\\s*((\\s*\\-?\\w\\s*\\.\\s*){2,4})$\"\n",
    "re.search(initials_pattern, fulltext)"
   ]
  },
  {
   "cell_type": "code",
   "execution_count": 13,
   "metadata": {},
   "outputs": [],
   "source": [
    "initials_matches = (\n",
    "    articles.fulltext.str.extract(initials_pattern)\n",
    "    .dropna()[0]\n",
    "    .apply(lambda s: s.upper().replace(\" \", \"\"))\n",
    ")"
   ]
  },
  {
   "cell_type": "code",
   "execution_count": 14,
   "metadata": {},
   "outputs": [
    {
     "data": {
      "text/plain": [
       "913"
      ]
     },
     "execution_count": 14,
     "metadata": {},
     "output_type": "execute_result"
    }
   ],
   "source": [
    "initials_indexes = articles.index.isin(initials_matches.index)\n",
    "len(initials_matches)"
   ]
  },
  {
   "cell_type": "code",
   "execution_count": 16,
   "metadata": {},
   "outputs": [
    {
     "data": {
      "text/html": [
       "<div>\n",
       "<style scoped>\n",
       "    .dataframe tbody tr th:only-of-type {\n",
       "        vertical-align: middle;\n",
       "    }\n",
       "\n",
       "    .dataframe tbody tr th {\n",
       "        vertical-align: top;\n",
       "    }\n",
       "\n",
       "    .dataframe thead th {\n",
       "        text-align: right;\n",
       "    }\n",
       "</style>\n",
       "<table border=\"1\" class=\"dataframe\">\n",
       "  <thead>\n",
       "    <tr style=\"text-align: right;\">\n",
       "      <th></th>\n",
       "      <th>total</th>\n",
       "      <th>JDG</th>\n",
       "      <th>GDL</th>\n",
       "    </tr>\n",
       "  </thead>\n",
       "  <tbody>\n",
       "    <tr>\n",
       "      <th>J.-L.L.</th>\n",
       "      <td>154</td>\n",
       "      <td>75</td>\n",
       "      <td>79</td>\n",
       "    </tr>\n",
       "    <tr>\n",
       "      <th>F.L.</th>\n",
       "      <td>135</td>\n",
       "      <td>1</td>\n",
       "      <td>134</td>\n",
       "    </tr>\n",
       "    <tr>\n",
       "      <th>J.R.</th>\n",
       "      <td>34</td>\n",
       "      <td>16</td>\n",
       "      <td>18</td>\n",
       "    </tr>\n",
       "    <tr>\n",
       "      <th>G.R.</th>\n",
       "      <td>30</td>\n",
       "      <td>0</td>\n",
       "      <td>30</td>\n",
       "    </tr>\n",
       "    <tr>\n",
       "      <th>S.A.</th>\n",
       "      <td>28</td>\n",
       "      <td>21</td>\n",
       "      <td>7</td>\n",
       "    </tr>\n",
       "    <tr>\n",
       "      <th>H.V.</th>\n",
       "      <td>24</td>\n",
       "      <td>24</td>\n",
       "      <td>0</td>\n",
       "    </tr>\n",
       "    <tr>\n",
       "      <th>A.K.</th>\n",
       "      <td>23</td>\n",
       "      <td>23</td>\n",
       "      <td>0</td>\n",
       "    </tr>\n",
       "    <tr>\n",
       "      <th>J.-S.E.</th>\n",
       "      <td>19</td>\n",
       "      <td>12</td>\n",
       "      <td>7</td>\n",
       "    </tr>\n",
       "    <tr>\n",
       "      <th>A.V.</th>\n",
       "      <td>19</td>\n",
       "      <td>12</td>\n",
       "      <td>7</td>\n",
       "    </tr>\n",
       "    <tr>\n",
       "      <th>M.-J.K.</th>\n",
       "      <td>18</td>\n",
       "      <td>9</td>\n",
       "      <td>9</td>\n",
       "    </tr>\n",
       "  </tbody>\n",
       "</table>\n",
       "</div>"
      ],
      "text/plain": [
       "         total  JDG  GDL\n",
       "J.-L.L.    154   75   79\n",
       "F.L.       135    1  134\n",
       "J.R.        34   16   18\n",
       "G.R.        30    0   30\n",
       "S.A.        28   21    7\n",
       "H.V.        24   24    0\n",
       "A.K.        23   23    0\n",
       "J.-S.E.     19   12    7\n",
       "A.V.        19   12    7\n",
       "M.-J.K.     18    9    9"
      ]
     },
     "execution_count": 16,
     "metadata": {},
     "output_type": "execute_result"
    }
   ],
   "source": [
    "initials_counts = (\n",
    "    pd.DataFrame(\n",
    "        {\n",
    "            \"total\": initials_matches.value_counts(),\n",
    "            \"JDG\": initials_matches[jdg_indexes].value_counts(),\n",
    "            \"GDL\": initials_matches[gdl_indexes].value_counts(),\n",
    "        }\n",
    "    )\n",
    "    .sort_values(\"total\", ascending=False)\n",
    "    .fillna(0)\n",
    "    .astype(int)\n",
    ")\n",
    "\n",
    "\n",
    "initials_counts.head(10)"
   ]
  },
  {
   "cell_type": "code",
   "execution_count": 17,
   "metadata": {},
   "outputs": [
    {
     "data": {
      "text/html": [
       "<div>\n",
       "<style scoped>\n",
       "    .dataframe tbody tr th:only-of-type {\n",
       "        vertical-align: middle;\n",
       "    }\n",
       "\n",
       "    .dataframe tbody tr th {\n",
       "        vertical-align: top;\n",
       "    }\n",
       "\n",
       "    .dataframe thead th {\n",
       "        text-align: right;\n",
       "    }\n",
       "</style>\n",
       "<table border=\"1\" class=\"dataframe\">\n",
       "  <thead>\n",
       "    <tr style=\"text-align: right;\">\n",
       "      <th></th>\n",
       "      <th>total</th>\n",
       "      <th>JDG</th>\n",
       "      <th>GDL</th>\n",
       "    </tr>\n",
       "  </thead>\n",
       "  <tbody>\n",
       "    <tr>\n",
       "      <th>F.L.</th>\n",
       "      <td>135</td>\n",
       "      <td>1</td>\n",
       "      <td>134</td>\n",
       "    </tr>\n",
       "    <tr>\n",
       "      <th>J.-L.L.</th>\n",
       "      <td>154</td>\n",
       "      <td>75</td>\n",
       "      <td>79</td>\n",
       "    </tr>\n",
       "    <tr>\n",
       "      <th>G.R.</th>\n",
       "      <td>30</td>\n",
       "      <td>0</td>\n",
       "      <td>30</td>\n",
       "    </tr>\n",
       "    <tr>\n",
       "      <th>J.R.</th>\n",
       "      <td>34</td>\n",
       "      <td>16</td>\n",
       "      <td>18</td>\n",
       "    </tr>\n",
       "    <tr>\n",
       "      <th>F.W.</th>\n",
       "      <td>11</td>\n",
       "      <td>0</td>\n",
       "      <td>11</td>\n",
       "    </tr>\n",
       "  </tbody>\n",
       "</table>\n",
       "</div>"
      ],
      "text/plain": [
       "         total  JDG  GDL\n",
       "F.L.       135    1  134\n",
       "J.-L.L.    154   75   79\n",
       "G.R.        30    0   30\n",
       "J.R.        34   16   18\n",
       "F.W.        11    0   11"
      ]
     },
     "execution_count": 17,
     "metadata": {},
     "output_type": "execute_result"
    }
   ],
   "source": [
    "initials_counts.sort_values(\"GDL\", ascending=False).head()"
   ]
  },
  {
   "cell_type": "code",
   "execution_count": 18,
   "metadata": {},
   "outputs": [
    {
     "data": {
      "text/html": [
       "<div>\n",
       "<style scoped>\n",
       "    .dataframe tbody tr th:only-of-type {\n",
       "        vertical-align: middle;\n",
       "    }\n",
       "\n",
       "    .dataframe tbody tr th {\n",
       "        vertical-align: top;\n",
       "    }\n",
       "\n",
       "    .dataframe thead th {\n",
       "        text-align: right;\n",
       "    }\n",
       "</style>\n",
       "<table border=\"1\" class=\"dataframe\">\n",
       "  <thead>\n",
       "    <tr style=\"text-align: right;\">\n",
       "      <th></th>\n",
       "      <th>total</th>\n",
       "      <th>JDG</th>\n",
       "      <th>GDL</th>\n",
       "    </tr>\n",
       "  </thead>\n",
       "  <tbody>\n",
       "    <tr>\n",
       "      <th>J.-L.L.</th>\n",
       "      <td>154</td>\n",
       "      <td>75</td>\n",
       "      <td>79</td>\n",
       "    </tr>\n",
       "    <tr>\n",
       "      <th>H.V.</th>\n",
       "      <td>24</td>\n",
       "      <td>24</td>\n",
       "      <td>0</td>\n",
       "    </tr>\n",
       "    <tr>\n",
       "      <th>A.K.</th>\n",
       "      <td>23</td>\n",
       "      <td>23</td>\n",
       "      <td>0</td>\n",
       "    </tr>\n",
       "    <tr>\n",
       "      <th>S.A.</th>\n",
       "      <td>28</td>\n",
       "      <td>21</td>\n",
       "      <td>7</td>\n",
       "    </tr>\n",
       "    <tr>\n",
       "      <th>J.R.</th>\n",
       "      <td>34</td>\n",
       "      <td>16</td>\n",
       "      <td>18</td>\n",
       "    </tr>\n",
       "  </tbody>\n",
       "</table>\n",
       "</div>"
      ],
      "text/plain": [
       "         total  JDG  GDL\n",
       "J.-L.L.    154   75   79\n",
       "H.V.        24   24    0\n",
       "A.K.        23   23    0\n",
       "S.A.        28   21    7\n",
       "J.R.        34   16   18"
      ]
     },
     "execution_count": 18,
     "metadata": {},
     "output_type": "execute_result"
    }
   ],
   "source": [
    "initials_counts.sort_values(\"JDG\", ascending=False).head()"
   ]
  },
  {
   "cell_type": "code",
   "execution_count": 273,
   "metadata": {},
   "outputs": [],
   "source": [
    "frequent_initials = initials_counts.head(12).index"
   ]
  },
  {
   "cell_type": "code",
   "execution_count": 274,
   "metadata": {},
   "outputs": [
    {
     "data": {
      "text/plain": [
       "21"
      ]
     },
     "execution_count": 274,
     "metadata": {},
     "output_type": "execute_result"
    }
   ],
   "source": [
    "(initials_indexes & agency_indexes).sum()"
   ]
  },
  {
   "cell_type": "code",
   "execution_count": 275,
   "metadata": {},
   "outputs": [
    {
     "name": "stdout",
     "output_type": "stream",
     "text": [
      "{'Jean-Luc Lederrey'}\n",
      "F.L.\n",
      "{'Jean Roussel'}\n",
      "G.R.\n",
      "{'Sylvie Arsever'}\n",
      "{'Henri Villy'}\n",
      "{'André Klopmann'}\n",
      "{'Jacques-Simon Eggly'}\n",
      "{'André Vallana', 'Anton Vos'}\n",
      "M.-J.K.\n",
      "{'Pierre Novello'}\n",
      "V.S.\n"
     ]
    }
   ],
   "source": [
    "with open(DATA_FOLDER + \"authors_jdg.txt\", \"r\") as f:\n",
    "    authors_jdg_list = f.read()\n",
    "\n",
    "# a map from initials to the set of authors with thos initials\n",
    "authors_jdg = {}\n",
    "for author in authors_jdg_list.split(\"\\n\"):\n",
    "    initials = \"\"\n",
    "    for name_part in author.split(\" \"):\n",
    "        if \"-\" in name_part:\n",
    "            single_name = name_part.split(\"-\")\n",
    "            initials += single_name[0][:1] + \".-\" + single_name[1][:1] + \".\"\n",
    "        else:\n",
    "            initials += name_part[:1] + \".\"\n",
    "\n",
    "    if len(initials) > 1:\n",
    "        if initials in authors_jdg:\n",
    "            authors_jdg[initials].add(author)\n",
    "        else:\n",
    "            authors_jdg[initials] = set([author])\n",
    "\n",
    "\n",
    "for initials in frequent_initials:\n",
    "    if initials in authors_jdg:\n",
    "        print(authors_jdg[initials])\n",
    "    else:\n",
    "        print(initials)"
   ]
  },
  {
   "cell_type": "markdown",
   "metadata": {},
   "source": [
    "#### Author's full name"
   ]
  },
  {
   "cell_type": "code",
   "execution_count": 22,
   "metadata": {},
   "outputs": [],
   "source": [
    "from functools import reduce\n",
    "\n",
    "authors_jdg_set = reduce(lambda s1, s2: s1 | s2, authors_jdg.values())\n",
    "jdg_pattern = \"(\" + \"|\".join(authors_jdg_set) + \")\"\n",
    "\n",
    "full_name = (\n",
    "    articles.fulltext.str.extract(jdg_pattern, flags=re.IGNORECASE)[0]\n",
    "    .dropna()\n",
    "    .str.lower()\n",
    "    .str.strip()\n",
    ")"
   ]
  },
  {
   "cell_type": "code",
   "execution_count": 222,
   "metadata": {},
   "outputs": [
    {
     "name": "stdout",
     "output_type": "stream",
     "text": [
      "1772\n",
      "2670\n"
     ]
    },
    {
     "data": {
      "image/png": "[encoded data removed]",
      "text/plain": [
       "<Figure size 864x576 with 1 Axes>"
      ]
     },
     "metadata": {
      "image/png": {
       "height": 467,
       "width": 725
      },
      "needs_background": "light"
     },
     "output_type": "display_data"
    }
   ],
   "source": [
    "full_name_indexes = articles.index.isin(full_name.index)\n",
    "print(full_name_indexes.sum())\n",
    "\n",
    "attributed_indexes = full_name_indexes | initials_indexes\n",
    "print(attributed_indexes.sum())\n",
    "\n",
    "year_hist(articles[attributed_indexes]);\n",
    "year_hist(articles[attributed_indexes & banking_indexes]);\n",
    "\n",
    "plt.axis(xmin=1950);\n",
    "plt.ylabel(\"nombre d'articles\")\n",
    "plt.legend([\"corpus\", \"sous-corpus\"]);\n",
    "\n",
    "plt.savefig(\"../rapport/methodology/author_attributed.png\", dpi=200)"
   ]
  },
  {
   "cell_type": "code",
   "execution_count": 28,
   "metadata": {},
   "outputs": [
    {
     "ename": "NameError",
     "evalue": "name 'attributed_indexes' is not defined",
     "output_type": "error",
     "traceback": [
      "\u001b[0;31m---------------------------------------------------------------------------\u001b[0m",
      "\u001b[0;31mNameError\u001b[0m                                 Traceback (most recent call last)",
      "\u001b[0;32m<ipython-input-28-ea4f7858aaa0>\u001b[0m in \u001b[0;36m<module>\u001b[0;34m\u001b[0m\n\u001b[1;32m      1\u001b[0m \u001b[0myear_hist\u001b[0m\u001b[0;34m(\u001b[0m\u001b[0marticles\u001b[0m\u001b[0;34m[\u001b[0m\u001b[0magency_indexes\u001b[0m \u001b[0;34m&\u001b[0m \u001b[0mbanking_indexes\u001b[0m\u001b[0;34m]\u001b[0m\u001b[0;34m)\u001b[0m\u001b[0;34m;\u001b[0m\u001b[0;34m\u001b[0m\u001b[0;34m\u001b[0m\u001b[0m\n\u001b[0;32m----> 2\u001b[0;31m \u001b[0myear_hist\u001b[0m\u001b[0;34m(\u001b[0m\u001b[0marticles\u001b[0m\u001b[0;34m[\u001b[0m\u001b[0mattributed_indexes\u001b[0m \u001b[0;34m&\u001b[0m \u001b[0mbanking_indexes\u001b[0m\u001b[0;34m]\u001b[0m\u001b[0;34m)\u001b[0m\u001b[0;34m;\u001b[0m\u001b[0;34m\u001b[0m\u001b[0;34m\u001b[0m\u001b[0m\n\u001b[0m\u001b[1;32m      3\u001b[0m \u001b[0myear_hist\u001b[0m\u001b[0;34m(\u001b[0m\u001b[0marticles\u001b[0m\u001b[0;34m[\u001b[0m\u001b[0mforeign_agency_indexes\u001b[0m \u001b[0;34m&\u001b[0m \u001b[0mbanking_indexes\u001b[0m\u001b[0;34m]\u001b[0m\u001b[0;34m)\u001b[0m\u001b[0;34m;\u001b[0m\u001b[0;34m\u001b[0m\u001b[0;34m\u001b[0m\u001b[0m\n\u001b[1;32m      4\u001b[0m \u001b[0;34m\u001b[0m\u001b[0m\n\u001b[1;32m      5\u001b[0m plt.legend([\n",
      "\u001b[0;31mNameError\u001b[0m: name 'attributed_indexes' is not defined"
     ]
    },
    {
     "data": {
      "image/png": "[encoded data removed]",
      "text/plain": [
       "<Figure size 864x432 with 1 Axes>"
      ]
     },
     "metadata": {
      "image/png": {
       "height": 358,
       "width": 719
      },
      "needs_background": "light"
     },
     "output_type": "display_data"
    }
   ],
   "source": [
    "year_hist(articles[agency_indexes & banking_indexes]);\n",
    "year_hist(articles[attributed_indexes & banking_indexes]);\n",
    "year_hist(articles[foreign_agency_indexes & banking_indexes]);\n",
    "\n",
    "plt.legend([\n",
    "    \"agences de presse\", \n",
    "    \"auteurs propres\", \n",
    "    \"agences étrangères\"\n",
    "]);\n",
    "plt.savefig(\"../rapport/analysis/authors_agency_count.png\", dpi=200);"
   ]
  },
  {
   "cell_type": "code",
   "execution_count": 276,
   "metadata": {},
   "outputs": [
    {
     "data": {
      "text/plain": [
       "jean-luc lederrey      55\n",
       "jacques-simon eggly    52\n",
       "françoise blaser       11\n",
       "sylvie arsever         10\n",
       "françoise buffat        8\n",
       "pierre novello          7\n",
       "jasmine audemars        4\n",
       "isabelle martin         4\n",
       "michel petitpierre      3\n",
       "olivier reverdin        3\n",
       "nuno sepulveda          2\n",
       "marian stepczynski      2\n",
       "paul ladame             2\n",
       "martine lamunière       1\n",
       "henri villy             1\n",
       "claude monnier          1\n",
       "jean-claude poulin      1\n",
       "pascal garcin           1\n",
       "Name: 0, dtype: int64"
      ]
     },
     "execution_count": 276,
     "metadata": {},
     "output_type": "execute_result"
    }
   ],
   "source": [
    "full_name[banking_indexes & (articles.date.dt.year <= 1990)].value_counts()"
   ]
  },
  {
   "cell_type": "code",
   "execution_count": 277,
   "metadata": {},
   "outputs": [
    {
     "data": {
      "text/plain": [
       "J.-L.L.    31\n",
       "J.R.       10\n",
       "D.-S.M.     7\n",
       "S.A.        6\n",
       "J.-S.E.     5\n",
       "A.-M.L.     5\n",
       "H.V.        4\n",
       "H.S.        3\n",
       "G.P.        3\n",
       "M.-J.K.     2\n",
       "X.P.        2\n",
       "F.W.        2\n",
       "M.S.        2\n",
       "V.S.        2\n",
       "D.A.        2\n",
       "J.-C.R.     2\n",
       "C.M.        1\n",
       "F.B.        1\n",
       "C.-E.L.     1\n",
       "M.K.        1\n",
       "-E.R.       1\n",
       "J.A.        1\n",
       "F.L.        1\n",
       "P.-A.S.     1\n",
       "R.R.        1\n",
       "R.L.        1\n",
       "J.-P.G.     1\n",
       "A.W.        1\n",
       "J.S.E.      1\n",
       "G.D.        1\n",
       "M.P.        1\n",
       "-H.P.       1\n",
       "J.1.L.      1\n",
       "J.S.        1\n",
       "R.D.        1\n",
       "Name: 0, dtype: int64"
      ]
     },
     "execution_count": 277,
     "metadata": {},
     "output_type": "execute_result"
    }
   ],
   "source": [
    "initials_matches[banking_indexes & (articles.date.dt.year <= 1990)].value_counts()"
   ]
  },
  {
   "cell_type": "markdown",
   "metadata": {},
   "source": [
    "#### Rédaction"
   ]
  },
  {
   "cell_type": "code",
   "execution_count": 211,
   "metadata": {},
   "outputs": [
    {
     "data": {
      "text/plain": [
       "261"
      ]
     },
     "execution_count": 211,
     "metadata": {},
     "output_type": "execute_result"
    }
   ],
   "source": [
    "red_indexes = articles.fulltext.str.contains(\"\\([R|r][é|e]d\\.?\\)\")\n",
    "red_indexes.sum()"
   ]
  },
  {
   "cell_type": "code",
   "execution_count": 212,
   "metadata": {},
   "outputs": [
    {
     "data": {
      "text/plain": [
       "105"
      ]
     },
     "execution_count": 212,
     "metadata": {},
     "output_type": "execute_result"
    }
   ],
   "source": [
    "(red_indexes & (ats_indexes | afp_indexes | initials_indexes)).sum()"
   ]
  },
  {
   "cell_type": "markdown",
   "metadata": {},
   "source": [
    "--> too much overlap! Don't use."
   ]
  },
  {
   "cell_type": "code",
   "execution_count": 55,
   "metadata": {
    "scrolled": false
   },
   "outputs": [
    {
     "data": {
      "text/html": [
       "<div>\n",
       "<style scoped>\n",
       "    .dataframe tbody tr th:only-of-type {\n",
       "        vertical-align: middle;\n",
       "    }\n",
       "\n",
       "    .dataframe tbody tr th {\n",
       "        vertical-align: top;\n",
       "    }\n",
       "\n",
       "    .dataframe thead th {\n",
       "        text-align: right;\n",
       "    }\n",
       "</style>\n",
       "<table border=\"1\" class=\"dataframe\">\n",
       "  <thead>\n",
       "    <tr style=\"text-align: right;\">\n",
       "      <th></th>\n",
       "      <th>date</th>\n",
       "      <th>fulltext</th>\n",
       "      <th>id</th>\n",
       "      <th>pages</th>\n",
       "      <th>title</th>\n",
       "      <th>type</th>\n",
       "    </tr>\n",
       "  </thead>\n",
       "  <tbody>\n",
       "    <tr>\n",
       "      <th>16205</th>\n",
       "      <td>1986-01-23</td>\n",
       "      <td>La Bank of America mise à l'amende Washington,...</td>\n",
       "      <td>GDL-1986-01-23-a-i0131</td>\n",
       "      <td>[15]</td>\n",
       "      <td>La Bank of America mise à l'amende</td>\n",
       "      <td>ar</td>\n",
       "    </tr>\n",
       "    <tr>\n",
       "      <th>28613</th>\n",
       "      <td>1986-01-23</td>\n",
       "      <td>La Bank of Amerlca I I'. \"'. mise à l'amende W...</td>\n",
       "      <td>JDG-1986-01-23-a-i0004</td>\n",
       "      <td>[9]</td>\n",
       "      <td>La Bank of Amerlca I I '.\"'.• mise à l'amende</td>\n",
       "      <td>ar</td>\n",
       "    </tr>\n",
       "    <tr>\n",
       "      <th>16243</th>\n",
       "      <td>1986-03-20</td>\n",
       "      <td>Le secret bancaire sur la fortune de Marcos po...</td>\n",
       "      <td>GDL-1986-03-20-a-i0109</td>\n",
       "      <td>[11]</td>\n",
       "      <td>Le secret bancaire sur la fortune de Marcos po...</td>\n",
       "      <td>ar</td>\n",
       "    </tr>\n",
       "    <tr>\n",
       "      <th>28423</th>\n",
       "      <td>1986-03-20</td>\n",
       "      <td>LÉGISLATION Le secret bancaire sur la fortune ...</td>\n",
       "      <td>JDG-1986-03-20-a-i0006</td>\n",
       "      <td>[14]</td>\n",
       "      <td>LÉGISLATION Le secret bancaire sur la fortune ...</td>\n",
       "      <td>ar</td>\n",
       "    </tr>\n",
       "    <tr>\n",
       "      <th>28475</th>\n",
       "      <td>1986-03-21</td>\n",
       "      <td>BANQUES \"' 1 -..'.. Le Crédit Suisse renforce ...</td>\n",
       "      <td>JDG-1986-03-21-a-i0001</td>\n",
       "      <td>[17]</td>\n",
       "      <td>BANQUES \"'1 -. .'.. Le Crédit Suisse renforce ...</td>\n",
       "      <td>ar</td>\n",
       "    </tr>\n",
       "    <tr>\n",
       "      <th>28476</th>\n",
       "      <td>1986-03-21</td>\n",
       "      <td>~ PHILIPPINES /. , [e-, « NewYorkTiïnès' » pub...</td>\n",
       "      <td>JDG-1986-03-21-a-i0004</td>\n",
       "      <td>[8]</td>\n",
       "      <td>~PHILIPPINES/. ,[e-,«NewYorkTiïnès'» publie la...</td>\n",
       "      <td>ar</td>\n",
       "    </tr>\n",
       "    <tr>\n",
       "      <th>16410</th>\n",
       "      <td>1986-03-21</td>\n",
       "      <td>PHILIPPINES Le « New York Times » publie la li...</td>\n",
       "      <td>GDL-1986-03-21-a-i0259</td>\n",
       "      <td>[29]</td>\n",
       "      <td>PHILIPPINES Le « New York Times » publie la li...</td>\n",
       "      <td>ar</td>\n",
       "    </tr>\n",
       "    <tr>\n",
       "      <th>16388</th>\n",
       "      <td>1986-10-14</td>\n",
       "      <td>ÉLECTRONIQUE Valtronic : une entreprise vaudoi...</td>\n",
       "      <td>GDL-1986-10-14-a-i0120</td>\n",
       "      <td>[15]</td>\n",
       "      <td>ÉLECTRONIQUE Valtronic: une entreprise vaudois...</td>\n",
       "      <td>ar</td>\n",
       "    </tr>\n",
       "    <tr>\n",
       "      <th>16901</th>\n",
       "      <td>1987-01-15</td>\n",
       "      <td>SOCIETES Affaire Guinness : la Banque Leu veut...</td>\n",
       "      <td>GDL-1987-01-15-a-i0118</td>\n",
       "      <td>[15]</td>\n",
       "      <td>SOCIETES</td>\n",
       "      <td>ar</td>\n",
       "    </tr>\n",
       "    <tr>\n",
       "      <th>29096</th>\n",
       "      <td>1987-01-15</td>\n",
       "      <td>SOCIETES Affaire Guinness : la Banque Leu veut...</td>\n",
       "      <td>JDG-1987-01-15-a-i0005</td>\n",
       "      <td>[9]</td>\n",
       "      <td>SOCIETES</td>\n",
       "      <td>ar</td>\n",
       "    </tr>\n",
       "    <tr>\n",
       "      <th>28821</th>\n",
       "      <td>1987-01-17</td>\n",
       "      <td>BOURSE La Banque Leu lève le voile sur son rôl...</td>\n",
       "      <td>JDG-1987-01-17-a-i0001</td>\n",
       "      <td>[9]</td>\n",
       "      <td>BOURSE La Banque Leu lève le voile sur son rôl...</td>\n",
       "      <td>ar</td>\n",
       "    </tr>\n",
       "    <tr>\n",
       "      <th>16896</th>\n",
       "      <td>1987-01-17</td>\n",
       "      <td>BOURSE La Banque Leu lève le voile sur son rôl...</td>\n",
       "      <td>GDL-1987-01-17-a-i0217</td>\n",
       "      <td>[25]</td>\n",
       "      <td>BOURSE La Banque Leu lève le voile sur son rôl...</td>\n",
       "      <td>ar</td>\n",
       "    </tr>\n",
       "    <tr>\n",
       "      <th>29017</th>\n",
       "      <td>1987-01-21</td>\n",
       "      <td>SOCIETES Affaire Guinness : deux dirigeants de...</td>\n",
       "      <td>JDG-1987-01-21-a-i0005</td>\n",
       "      <td>[9]</td>\n",
       "      <td>SOCIETES</td>\n",
       "      <td>ar</td>\n",
       "    </tr>\n",
       "    <tr>\n",
       "      <th>16600</th>\n",
       "      <td>1987-01-21</td>\n",
       "      <td>SOCIETES Affaire Guinness : deux dirigeants de...</td>\n",
       "      <td>GDL-1987-01-21-a-i0166</td>\n",
       "      <td>[23]</td>\n",
       "      <td>SOCIETES Affaire Guinness: deux dirigeants de ...</td>\n",
       "      <td>ar</td>\n",
       "    </tr>\n",
       "    <tr>\n",
       "      <th>28911</th>\n",
       "      <td>1987-04-22</td>\n",
       "      <td>SCANDALE DES CHANGES Affairé VW : la justice z...</td>\n",
       "      <td>JDG-1987-04-22-a-i0005</td>\n",
       "      <td>[3]</td>\n",
       "      <td>SCANDALE DES CHANGES Affairé VW: la justice zu...</td>\n",
       "      <td>ar</td>\n",
       "    </tr>\n",
       "    <tr>\n",
       "      <th>16520</th>\n",
       "      <td>1987-04-22</td>\n",
       "      <td>SCANDALE DES CHANGÉS \"\"-\"-\" * — ! j-&lt; : B. •&gt;&gt;...</td>\n",
       "      <td>GDL-1987-04-22-a-i0021</td>\n",
       "      <td>[3]</td>\n",
       "      <td>SCANDALE DES CHANGÉS\"\"-\"- \" * : — • ! j - &amp;lt;...</td>\n",
       "      <td>ar</td>\n",
       "    </tr>\n",
       "    <tr>\n",
       "      <th>16658</th>\n",
       "      <td>1987-05-27</td>\n",
       "      <td>AMÉRIQUE LATINE Brésil : « la dette remboursée...</td>\n",
       "      <td>GDL-1987-05-27-a-i0050</td>\n",
       "      <td>[7]</td>\n",
       "      <td>AMÉRIQUE LATINE Brésil: «la dette remboursée a...</td>\n",
       "      <td>ar</td>\n",
       "    </tr>\n",
       "    <tr>\n",
       "      <th>28898</th>\n",
       "      <td>1987-05-27</td>\n",
       "      <td>Brésil : « la dette remboursée au détriment de...</td>\n",
       "      <td>JDG-1987-05-27-a-i0005</td>\n",
       "      <td>[7]</td>\n",
       "      <td>Brésil: «la dette remboursée au détriment des ...</td>\n",
       "      <td>ar</td>\n",
       "    </tr>\n",
       "    <tr>\n",
       "      <th>28800</th>\n",
       "      <td>1987-06-12</td>\n",
       "      <td>Comptes secrets : une délégation indienne va v...</td>\n",
       "      <td>JDG-1987-06-12-a-i0009</td>\n",
       "      <td>[9]</td>\n",
       "      <td>Comptes secrets: une délégation indienne va ve...</td>\n",
       "      <td>ar</td>\n",
       "    </tr>\n",
       "    <tr>\n",
       "      <th>16632</th>\n",
       "      <td>1987-06-12</td>\n",
       "      <td>Comptes secrets : une délégation indienne va v...</td>\n",
       "      <td>GDL-1987-06-12-a-i0065</td>\n",
       "      <td>[9]</td>\n",
       "      <td>Comptes secrets: une délégation indienne va ve...</td>\n",
       "      <td>ar</td>\n",
       "    </tr>\n",
       "    <tr>\n",
       "      <th>29284</th>\n",
       "      <td>1988-01-14</td>\n",
       "      <td>Genève Ce sera dur de ne pas passer en-dessous...</td>\n",
       "      <td>JDG-1988-01-14-a-i0001</td>\n",
       "      <td>[7]</td>\n",
       "      <td>Genève</td>\n",
       "      <td>ar</td>\n",
       "    </tr>\n",
       "    <tr>\n",
       "      <th>29589</th>\n",
       "      <td>1989-02-07</td>\n",
       "      <td>FISCALITÉ Bruxelles va proposer un plan de lut...</td>\n",
       "      <td>JDG-1989-02-07-a-i0003</td>\n",
       "      <td>[10]</td>\n",
       "      <td>FISCALITÉ Bruxelles va proposer un plan de lut...</td>\n",
       "      <td>ar</td>\n",
       "    </tr>\n",
       "    <tr>\n",
       "      <th>29537</th>\n",
       "      <td>1989-02-09</td>\n",
       "      <td>Epargne : la CEE propose une retenue à la sour...</td>\n",
       "      <td>JDG-1989-02-09-a-i0002</td>\n",
       "      <td>[7]</td>\n",
       "      <td>Epargne: la CEE propose une retenue à la sourc...</td>\n",
       "      <td>ar</td>\n",
       "    </tr>\n",
       "    <tr>\n",
       "      <th>30013</th>\n",
       "      <td>1989-03-29</td>\n",
       "      <td>FAITS ET CHIFFRES COMMERCE CHUTE DES ÉCHANGES ...</td>\n",
       "      <td>JDG-1989-03-29-a-i0006</td>\n",
       "      <td>[7]</td>\n",
       "      <td>FAITS ET CHIFFRES</td>\n",
       "      <td>ar</td>\n",
       "    </tr>\n",
       "    <tr>\n",
       "      <th>17583</th>\n",
       "      <td>1989-03-29</td>\n",
       "      <td>FAITS ET CHIFFRES COMMERCE CHUTE DES ÉCHANGES ...</td>\n",
       "      <td>GDL-1989-03-29-a-i0054</td>\n",
       "      <td>[7]</td>\n",
       "      <td>FAITS ET CHIFFRES</td>\n",
       "      <td>ar</td>\n",
       "    </tr>\n",
       "    <tr>\n",
       "      <th>29632</th>\n",
       "      <td>1989-04-27</td>\n",
       "      <td>FAITS ET CHIFFRES • RFA : importante hausse de...</td>\n",
       "      <td>JDG-1989-04-27-a-i0001</td>\n",
       "      <td>[11]</td>\n",
       "      <td>FAITS ET CHIFFRES</td>\n",
       "      <td>ar</td>\n",
       "    </tr>\n",
       "    <tr>\n",
       "      <th>17632</th>\n",
       "      <td>1989-04-27</td>\n",
       "      <td>FAITS ET CHIFFRES • RFA : importante hausse de...</td>\n",
       "      <td>GDL-1989-04-27-a-i0059</td>\n",
       "      <td>[8]</td>\n",
       "      <td>FAITS ET CHIFFRES</td>\n",
       "      <td>ar</td>\n",
       "    </tr>\n",
       "    <tr>\n",
       "      <th>29740</th>\n",
       "      <td>1989-09-11</td>\n",
       "      <td>Petits pas des Douze vers l'intégration monéta...</td>\n",
       "      <td>JDG-1989-09-11-a-i0004</td>\n",
       "      <td>[7]</td>\n",
       "      <td>Petits pas des Douze vers l'intégration monéta...</td>\n",
       "      <td>ar</td>\n",
       "    </tr>\n",
       "    <tr>\n",
       "      <th>17500</th>\n",
       "      <td>1989-09-15</td>\n",
       "      <td>La Suisse participera à une conférence sur le ...</td>\n",
       "      <td>GDL-1989-09-15-a-i0021</td>\n",
       "      <td>[3]</td>\n",
       "      <td>La Suisse participera à une conférence sur le ...</td>\n",
       "      <td>ar</td>\n",
       "    </tr>\n",
       "    <tr>\n",
       "      <th>29794</th>\n",
       "      <td>1989-09-19</td>\n",
       "      <td>Le groupe des Sept débat de la levée du secret...</td>\n",
       "      <td>JDG-1989-09-19-a-i0003</td>\n",
       "      <td>[36]</td>\n",
       "      <td>Le groupe des Sept débat de la levée du secret...</td>\n",
       "      <td>ar</td>\n",
       "    </tr>\n",
       "    <tr>\n",
       "      <th>17391</th>\n",
       "      <td>1989-09-19</td>\n",
       "      <td>Le groupe des Sept débat de la levée du secret...</td>\n",
       "      <td>GDL-1989-09-19-a-i0255</td>\n",
       "      <td>[36]</td>\n",
       "      <td>Le groupe des Sept débat de la levée du secret...</td>\n",
       "      <td>ar</td>\n",
       "    </tr>\n",
       "    <tr>\n",
       "      <th>17404</th>\n",
       "      <td>1989-10-10</td>\n",
       "      <td>CEE TVA : pas de changement du mode de percept...</td>\n",
       "      <td>GDL-1989-10-10-a-i0079</td>\n",
       "      <td>[11]</td>\n",
       "      <td>CEE TVA: pas de changement du mode de perception</td>\n",
       "      <td>ar</td>\n",
       "    </tr>\n",
       "    <tr>\n",
       "      <th>17701</th>\n",
       "      <td>1989-10-25</td>\n",
       "      <td>Explosion dans un complexe pétro-chîmique amér...</td>\n",
       "      <td>GDL-1989-10-25-a-i0214</td>\n",
       "      <td>[32]</td>\n",
       "      <td>Explosion dans un complexe pétro-chîmique amér...</td>\n",
       "      <td>ar</td>\n",
       "    </tr>\n",
       "    <tr>\n",
       "      <th>29808</th>\n",
       "      <td>1989-10-25</td>\n",
       "      <td>ÉTATS-UNIS Explosion dans un complexe pétro-ch...</td>\n",
       "      <td>JDG-1989-10-25-a-i0001</td>\n",
       "      <td>[32]</td>\n",
       "      <td>ÉTATS-UNIS Explosion dans un complexe pétro-ch...</td>\n",
       "      <td>ar</td>\n",
       "    </tr>\n",
       "    <tr>\n",
       "      <th>17422</th>\n",
       "      <td>1989-12-13</td>\n",
       "      <td>Levée totale du contrôle des changes avancée e...</td>\n",
       "      <td>GDL-1989-12-13-a-i0054</td>\n",
       "      <td>[7]</td>\n",
       "      <td>Levée totale du contrôle des changes avancée e...</td>\n",
       "      <td>ar</td>\n",
       "    </tr>\n",
       "    <tr>\n",
       "      <th>29458</th>\n",
       "      <td>1989-12-13</td>\n",
       "      <td>Levée totale du contrôle des changes avancée e...</td>\n",
       "      <td>JDG-1989-12-13-a-i0004</td>\n",
       "      <td>[7]</td>\n",
       "      <td>Levée totale du contrôle des changes avancée e...</td>\n",
       "      <td>ar</td>\n",
       "    </tr>\n",
       "    <tr>\n",
       "      <th>30071</th>\n",
       "      <td>1990-02-08</td>\n",
       "      <td>RAPPORT Forte reprise de l'activité lnterbanca...</td>\n",
       "      <td>JDG-1990-02-08-a-i0001</td>\n",
       "      <td>[12]</td>\n",
       "      <td>RAPPORT Forte reprise de l'activité lnterbanca...</td>\n",
       "      <td>ar</td>\n",
       "    </tr>\n",
       "    <tr>\n",
       "      <th>30079</th>\n",
       "      <td>1990-02-15</td>\n",
       "      <td>DROGUE Blanchiment de l'argent sale : la CEE p...</td>\n",
       "      <td>JDG-1990-02-15-a-i0001</td>\n",
       "      <td>[8]</td>\n",
       "      <td>DROGUE Blanchiment de l'argent sale: la CEE pr...</td>\n",
       "      <td>ar</td>\n",
       "    </tr>\n",
       "    <tr>\n",
       "      <th>17731</th>\n",
       "      <td>1990-02-17</td>\n",
       "      <td>Hausse des prix plus forte que prévue en Grand...</td>\n",
       "      <td>GDL-1990-02-17-a-i0054</td>\n",
       "      <td>[10]</td>\n",
       "      <td>Hausse des prix plus forte que prévue en Grand...</td>\n",
       "      <td>ar</td>\n",
       "    </tr>\n",
       "    <tr>\n",
       "      <th>30028</th>\n",
       "      <td>1990-04-06</td>\n",
       "      <td>Brésil : le plan Collor attaque les comptes ba...</td>\n",
       "      <td>JDG-1990-04-06-a-i0005</td>\n",
       "      <td>[9]</td>\n",
       "      <td>Brésil: le plan Collor attaque les comptes ban...</td>\n",
       "      <td>ar</td>\n",
       "    </tr>\n",
       "    <tr>\n",
       "      <th>17954</th>\n",
       "      <td>1990-06-09</td>\n",
       "      <td>PARIS Blanchiment d'argent : projet de loi ado...</td>\n",
       "      <td>GDL-1990-06-09-a-i0029</td>\n",
       "      <td>[4]</td>\n",
       "      <td>PARIS Blanchiment d'argent: projet de loi adop...</td>\n",
       "      <td>ar</td>\n",
       "    </tr>\n",
       "    <tr>\n",
       "      <th>30346</th>\n",
       "      <td>1990-06-09</td>\n",
       "      <td>Blanchiment d'argent : projet de loi adopté en...</td>\n",
       "      <td>JDG-1990-06-09-a-i0007</td>\n",
       "      <td>[5]</td>\n",
       "      <td>Blanchiment d'argent: projet de loi adopté en ...</td>\n",
       "      <td>ar</td>\n",
       "    </tr>\n",
       "    <tr>\n",
       "      <th>30229</th>\n",
       "      <td>1990-12-10</td>\n",
       "      <td>OTAGES Irak : deux Suisses ont déjà obtenu leu...</td>\n",
       "      <td>JDG-1990-12-10-a-i0005</td>\n",
       "      <td>[9]</td>\n",
       "      <td>OTAGES Irak: deux Suisses ont déjà obtenu leur...</td>\n",
       "      <td>ar</td>\n",
       "    </tr>\n",
       "    <tr>\n",
       "      <th>17760</th>\n",
       "      <td>1990-12-10</td>\n",
       "      <td>OTAGES Irak : deux Suisses ont déjà obtenu leu...</td>\n",
       "      <td>GDL-1990-12-10-a-i0077</td>\n",
       "      <td>[9]</td>\n",
       "      <td>OTAGES Irak: deux Suisses ont déjà obtenu leur...</td>\n",
       "      <td>ar</td>\n",
       "    </tr>\n",
       "    <tr>\n",
       "      <th>30678</th>\n",
       "      <td>1991-07-10</td>\n",
       "      <td>Le Luxembourg s'inquiète pour son image Luxemb...</td>\n",
       "      <td>JDG-1991-07-10-a-i0003</td>\n",
       "      <td>[7]</td>\n",
       "      <td>Le Luxembourg s'inquiète pour son image</td>\n",
       "      <td>ar</td>\n",
       "    </tr>\n",
       "    <tr>\n",
       "      <th>30608</th>\n",
       "      <td>1991-07-17</td>\n",
       "      <td>Arrestation de quatre personnes qui enquêtaien...</td>\n",
       "      <td>JDG-1991-07-17-a-i0003</td>\n",
       "      <td>[5]</td>\n",
       "      <td>Arrestation de quatre personnes qui enquêtaien...</td>\n",
       "      <td>ar</td>\n",
       "    </tr>\n",
       "    <tr>\n",
       "      <th>30796</th>\n",
       "      <td>1991-08-02</td>\n",
       "      <td>Les Kurdes bloqués à Kloten pourront demander ...</td>\n",
       "      <td>JDG-1991-08-02-a-i0003</td>\n",
       "      <td>[13]</td>\n",
       "      <td>Les Kurdes bloqués à Kloten pourront demander ...</td>\n",
       "      <td>ar</td>\n",
       "    </tr>\n",
       "    <tr>\n",
       "      <th>17968</th>\n",
       "      <td>1991-08-02</td>\n",
       "      <td>SECRET BANCAIRE AFFAIRE STROESSNER (AFP).-La S...</td>\n",
       "      <td>GDL-1991-08-02-a-i0109</td>\n",
       "      <td>[16]</td>\n",
       "      <td>SECRET BANCAIRE</td>\n",
       "      <td>ar</td>\n",
       "    </tr>\n",
       "    <tr>\n",
       "      <th>30566</th>\n",
       "      <td>1991-10-04</td>\n",
       "      <td>TRAFIC AERIEN L'IATA constate un recul de 8 % ...</td>\n",
       "      <td>JDG-1991-10-04-a-i0005</td>\n",
       "      <td>[7]</td>\n",
       "      <td>TRAFIC AERIEN</td>\n",
       "      <td>ar</td>\n",
       "    </tr>\n",
       "    <tr>\n",
       "      <th>18281</th>\n",
       "      <td>1991-10-04</td>\n",
       "      <td>TRAFIC AERIEN L'IATA constate u n recul de 8 %...</td>\n",
       "      <td>GDL-1991-10-04-a-i0061</td>\n",
       "      <td>[7]</td>\n",
       "      <td>TRAFIC AERIEN L'IATA constate u n recul de 8% ...</td>\n",
       "      <td>ar</td>\n",
       "    </tr>\n",
       "    <tr>\n",
       "      <th>30657</th>\n",
       "      <td>1991-11-13</td>\n",
       "      <td>GENEVE Motivée Le marché s'est trouvé de nouve...</td>\n",
       "      <td>JDG-1991-11-13-a-i0001</td>\n",
       "      <td>[13]</td>\n",
       "      <td>GENEVE Motivée</td>\n",
       "      <td>ar</td>\n",
       "    </tr>\n",
       "    <tr>\n",
       "      <th>18241</th>\n",
       "      <td>1991-11-13</td>\n",
       "      <td>GENEVE / Vlot / Vée te marché s'est trouvé de ...</td>\n",
       "      <td>GDL-1991-11-13-a-i0087</td>\n",
       "      <td>[13]</td>\n",
       "      <td>GENEVE /Vlot/Vée</td>\n",
       "      <td>ar</td>\n",
       "    </tr>\n",
       "    <tr>\n",
       "      <th>18749</th>\n",
       "      <td>1992-03-12</td>\n",
       "      <td>SOCIETES HERO Le groupe de produits alimentair...</td>\n",
       "      <td>GDL-1992-03-12-a-i0114</td>\n",
       "      <td>[15]</td>\n",
       "      <td>SOCIETES</td>\n",
       "      <td>ar</td>\n",
       "    </tr>\n",
       "    <tr>\n",
       "      <th>31032</th>\n",
       "      <td>1992-03-12</td>\n",
       "      <td>SOCIETES HERO Legroupe de produits alimentaire...</td>\n",
       "      <td>JDG-1992-03-12-a-i0006</td>\n",
       "      <td>[15]</td>\n",
       "      <td>SOCIETES</td>\n",
       "      <td>ar</td>\n",
       "    </tr>\n",
       "    <tr>\n",
       "      <th>18558</th>\n",
       "      <td>1992-03-19</td>\n",
       "      <td>La Hongrie soucieuse de sa réputation BANQUES ...</td>\n",
       "      <td>GDL-1992-03-19-a-i0119</td>\n",
       "      <td>[15]</td>\n",
       "      <td>La Hongrie soucieuse de sa réputation</td>\n",
       "      <td>ar</td>\n",
       "    </tr>\n",
       "    <tr>\n",
       "      <th>31315</th>\n",
       "      <td>1992-03-19</td>\n",
       "      <td>La Hongrie soucieuse de sa réputation Craignan...</td>\n",
       "      <td>JDG-1992-03-19-a-i0003</td>\n",
       "      <td>[15]</td>\n",
       "      <td>La Hongrie soucieuse de sa réputation</td>\n",
       "      <td>ar</td>\n",
       "    </tr>\n",
       "    <tr>\n",
       "      <th>18456</th>\n",
       "      <td>1992-08-10</td>\n",
       "      <td>SCANDALE Pots-de-vin de Milan Milan demande la...</td>\n",
       "      <td>GDL-1992-08-10-a-i0034</td>\n",
       "      <td>[5]</td>\n",
       "      <td>Milan demande la levée du secret bancaire suisse</td>\n",
       "      <td>ar</td>\n",
       "    </tr>\n",
       "    <tr>\n",
       "      <th>30925</th>\n",
       "      <td>1992-08-10</td>\n",
       "      <td>Milan demande la levée du secret bancaire suis...</td>\n",
       "      <td>JDG-1992-08-10-a-i0005</td>\n",
       "      <td>[5]</td>\n",
       "      <td>Milan demande la levée du secret bancaire suisse</td>\n",
       "      <td>ar</td>\n",
       "    </tr>\n",
       "    <tr>\n",
       "      <th>18734</th>\n",
       "      <td>1992-12-15</td>\n",
       "      <td>EEE Les retombées du 6 décembre Le demi-canton...</td>\n",
       "      <td>GDL-1992-12-15-a-i0146</td>\n",
       "      <td>[18]</td>\n",
       "      <td>None</td>\n",
       "      <td>ar</td>\n",
       "    </tr>\n",
       "  </tbody>\n",
       "</table>\n",
       "</div>"
      ],
      "text/plain": [
       "            date                                           fulltext  \\\n",
       "16205 1986-01-23  La Bank of America mise à l'amende Washington,...   \n",
       "28613 1986-01-23  La Bank of Amerlca I I'. \"'. mise à l'amende W...   \n",
       "16243 1986-03-20  Le secret bancaire sur la fortune de Marcos po...   \n",
       "28423 1986-03-20  LÉGISLATION Le secret bancaire sur la fortune ...   \n",
       "28475 1986-03-21  BANQUES \"' 1 -..'.. Le Crédit Suisse renforce ...   \n",
       "28476 1986-03-21  ~ PHILIPPINES /. , [e-, « NewYorkTiïnès' » pub...   \n",
       "16410 1986-03-21  PHILIPPINES Le « New York Times » publie la li...   \n",
       "16388 1986-10-14  ÉLECTRONIQUE Valtronic : une entreprise vaudoi...   \n",
       "16901 1987-01-15  SOCIETES Affaire Guinness : la Banque Leu veut...   \n",
       "29096 1987-01-15  SOCIETES Affaire Guinness : la Banque Leu veut...   \n",
       "28821 1987-01-17  BOURSE La Banque Leu lève le voile sur son rôl...   \n",
       "16896 1987-01-17  BOURSE La Banque Leu lève le voile sur son rôl...   \n",
       "29017 1987-01-21  SOCIETES Affaire Guinness : deux dirigeants de...   \n",
       "16600 1987-01-21  SOCIETES Affaire Guinness : deux dirigeants de...   \n",
       "28911 1987-04-22  SCANDALE DES CHANGES Affairé VW : la justice z...   \n",
       "16520 1987-04-22  SCANDALE DES CHANGÉS \"\"-\"-\" * — ! j-< : B. •>>...   \n",
       "16658 1987-05-27  AMÉRIQUE LATINE Brésil : « la dette remboursée...   \n",
       "28898 1987-05-27  Brésil : « la dette remboursée au détriment de...   \n",
       "28800 1987-06-12  Comptes secrets : une délégation indienne va v...   \n",
       "16632 1987-06-12  Comptes secrets : une délégation indienne va v...   \n",
       "29284 1988-01-14  Genève Ce sera dur de ne pas passer en-dessous...   \n",
       "29589 1989-02-07  FISCALITÉ Bruxelles va proposer un plan de lut...   \n",
       "29537 1989-02-09  Epargne : la CEE propose une retenue à la sour...   \n",
       "30013 1989-03-29  FAITS ET CHIFFRES COMMERCE CHUTE DES ÉCHANGES ...   \n",
       "17583 1989-03-29  FAITS ET CHIFFRES COMMERCE CHUTE DES ÉCHANGES ...   \n",
       "29632 1989-04-27  FAITS ET CHIFFRES • RFA : importante hausse de...   \n",
       "17632 1989-04-27  FAITS ET CHIFFRES • RFA : importante hausse de...   \n",
       "29740 1989-09-11  Petits pas des Douze vers l'intégration monéta...   \n",
       "17500 1989-09-15  La Suisse participera à une conférence sur le ...   \n",
       "29794 1989-09-19  Le groupe des Sept débat de la levée du secret...   \n",
       "17391 1989-09-19  Le groupe des Sept débat de la levée du secret...   \n",
       "17404 1989-10-10  CEE TVA : pas de changement du mode de percept...   \n",
       "17701 1989-10-25  Explosion dans un complexe pétro-chîmique amér...   \n",
       "29808 1989-10-25  ÉTATS-UNIS Explosion dans un complexe pétro-ch...   \n",
       "17422 1989-12-13  Levée totale du contrôle des changes avancée e...   \n",
       "29458 1989-12-13  Levée totale du contrôle des changes avancée e...   \n",
       "30071 1990-02-08  RAPPORT Forte reprise de l'activité lnterbanca...   \n",
       "30079 1990-02-15  DROGUE Blanchiment de l'argent sale : la CEE p...   \n",
       "17731 1990-02-17  Hausse des prix plus forte que prévue en Grand...   \n",
       "30028 1990-04-06  Brésil : le plan Collor attaque les comptes ba...   \n",
       "17954 1990-06-09  PARIS Blanchiment d'argent : projet de loi ado...   \n",
       "30346 1990-06-09  Blanchiment d'argent : projet de loi adopté en...   \n",
       "30229 1990-12-10  OTAGES Irak : deux Suisses ont déjà obtenu leu...   \n",
       "17760 1990-12-10  OTAGES Irak : deux Suisses ont déjà obtenu leu...   \n",
       "30678 1991-07-10  Le Luxembourg s'inquiète pour son image Luxemb...   \n",
       "30608 1991-07-17  Arrestation de quatre personnes qui enquêtaien...   \n",
       "30796 1991-08-02  Les Kurdes bloqués à Kloten pourront demander ...   \n",
       "17968 1991-08-02  SECRET BANCAIRE AFFAIRE STROESSNER (AFP).-La S...   \n",
       "30566 1991-10-04  TRAFIC AERIEN L'IATA constate un recul de 8 % ...   \n",
       "18281 1991-10-04  TRAFIC AERIEN L'IATA constate u n recul de 8 %...   \n",
       "30657 1991-11-13  GENEVE Motivée Le marché s'est trouvé de nouve...   \n",
       "18241 1991-11-13  GENEVE / Vlot / Vée te marché s'est trouvé de ...   \n",
       "18749 1992-03-12  SOCIETES HERO Le groupe de produits alimentair...   \n",
       "31032 1992-03-12  SOCIETES HERO Legroupe de produits alimentaire...   \n",
       "18558 1992-03-19  La Hongrie soucieuse de sa réputation BANQUES ...   \n",
       "31315 1992-03-19  La Hongrie soucieuse de sa réputation Craignan...   \n",
       "18456 1992-08-10  SCANDALE Pots-de-vin de Milan Milan demande la...   \n",
       "30925 1992-08-10  Milan demande la levée du secret bancaire suis...   \n",
       "18734 1992-12-15  EEE Les retombées du 6 décembre Le demi-canton...   \n",
       "\n",
       "                           id pages  \\\n",
       "16205  GDL-1986-01-23-a-i0131  [15]   \n",
       "28613  JDG-1986-01-23-a-i0004   [9]   \n",
       "16243  GDL-1986-03-20-a-i0109  [11]   \n",
       "28423  JDG-1986-03-20-a-i0006  [14]   \n",
       "28475  JDG-1986-03-21-a-i0001  [17]   \n",
       "28476  JDG-1986-03-21-a-i0004   [8]   \n",
       "16410  GDL-1986-03-21-a-i0259  [29]   \n",
       "16388  GDL-1986-10-14-a-i0120  [15]   \n",
       "16901  GDL-1987-01-15-a-i0118  [15]   \n",
       "29096  JDG-1987-01-15-a-i0005   [9]   \n",
       "28821  JDG-1987-01-17-a-i0001   [9]   \n",
       "16896  GDL-1987-01-17-a-i0217  [25]   \n",
       "29017  JDG-1987-01-21-a-i0005   [9]   \n",
       "16600  GDL-1987-01-21-a-i0166  [23]   \n",
       "28911  JDG-1987-04-22-a-i0005   [3]   \n",
       "16520  GDL-1987-04-22-a-i0021   [3]   \n",
       "16658  GDL-1987-05-27-a-i0050   [7]   \n",
       "28898  JDG-1987-05-27-a-i0005   [7]   \n",
       "28800  JDG-1987-06-12-a-i0009   [9]   \n",
       "16632  GDL-1987-06-12-a-i0065   [9]   \n",
       "29284  JDG-1988-01-14-a-i0001   [7]   \n",
       "29589  JDG-1989-02-07-a-i0003  [10]   \n",
       "29537  JDG-1989-02-09-a-i0002   [7]   \n",
       "30013  JDG-1989-03-29-a-i0006   [7]   \n",
       "17583  GDL-1989-03-29-a-i0054   [7]   \n",
       "29632  JDG-1989-04-27-a-i0001  [11]   \n",
       "17632  GDL-1989-04-27-a-i0059   [8]   \n",
       "29740  JDG-1989-09-11-a-i0004   [7]   \n",
       "17500  GDL-1989-09-15-a-i0021   [3]   \n",
       "29794  JDG-1989-09-19-a-i0003  [36]   \n",
       "17391  GDL-1989-09-19-a-i0255  [36]   \n",
       "17404  GDL-1989-10-10-a-i0079  [11]   \n",
       "17701  GDL-1989-10-25-a-i0214  [32]   \n",
       "29808  JDG-1989-10-25-a-i0001  [32]   \n",
       "17422  GDL-1989-12-13-a-i0054   [7]   \n",
       "29458  JDG-1989-12-13-a-i0004   [7]   \n",
       "30071  JDG-1990-02-08-a-i0001  [12]   \n",
       "30079  JDG-1990-02-15-a-i0001   [8]   \n",
       "17731  GDL-1990-02-17-a-i0054  [10]   \n",
       "30028  JDG-1990-04-06-a-i0005   [9]   \n",
       "17954  GDL-1990-06-09-a-i0029   [4]   \n",
       "30346  JDG-1990-06-09-a-i0007   [5]   \n",
       "30229  JDG-1990-12-10-a-i0005   [9]   \n",
       "17760  GDL-1990-12-10-a-i0077   [9]   \n",
       "30678  JDG-1991-07-10-a-i0003   [7]   \n",
       "30608  JDG-1991-07-17-a-i0003   [5]   \n",
       "30796  JDG-1991-08-02-a-i0003  [13]   \n",
       "17968  GDL-1991-08-02-a-i0109  [16]   \n",
       "30566  JDG-1991-10-04-a-i0005   [7]   \n",
       "18281  GDL-1991-10-04-a-i0061   [7]   \n",
       "30657  JDG-1991-11-13-a-i0001  [13]   \n",
       "18241  GDL-1991-11-13-a-i0087  [13]   \n",
       "18749  GDL-1992-03-12-a-i0114  [15]   \n",
       "31032  JDG-1992-03-12-a-i0006  [15]   \n",
       "18558  GDL-1992-03-19-a-i0119  [15]   \n",
       "31315  JDG-1992-03-19-a-i0003  [15]   \n",
       "18456  GDL-1992-08-10-a-i0034   [5]   \n",
       "30925  JDG-1992-08-10-a-i0005   [5]   \n",
       "18734  GDL-1992-12-15-a-i0146  [18]   \n",
       "\n",
       "                                                   title type  \n",
       "16205                 La Bank of America mise à l'amende   ar  \n",
       "28613      La Bank of Amerlca I I '.\"'.• mise à l'amende   ar  \n",
       "16243  Le secret bancaire sur la fortune de Marcos po...   ar  \n",
       "28423  LÉGISLATION Le secret bancaire sur la fortune ...   ar  \n",
       "28475  BANQUES \"'1 -. .'.. Le Crédit Suisse renforce ...   ar  \n",
       "28476  ~PHILIPPINES/. ,[e-,«NewYorkTiïnès'» publie la...   ar  \n",
       "16410  PHILIPPINES Le « New York Times » publie la li...   ar  \n",
       "16388  ÉLECTRONIQUE Valtronic: une entreprise vaudois...   ar  \n",
       "16901                                           SOCIETES   ar  \n",
       "29096                                           SOCIETES   ar  \n",
       "28821  BOURSE La Banque Leu lève le voile sur son rôl...   ar  \n",
       "16896  BOURSE La Banque Leu lève le voile sur son rôl...   ar  \n",
       "29017                                           SOCIETES   ar  \n",
       "16600  SOCIETES Affaire Guinness: deux dirigeants de ...   ar  \n",
       "28911  SCANDALE DES CHANGES Affairé VW: la justice zu...   ar  \n",
       "16520  SCANDALE DES CHANGÉS\"\"-\"- \" * : — • ! j - &lt;...   ar  \n",
       "16658  AMÉRIQUE LATINE Brésil: «la dette remboursée a...   ar  \n",
       "28898  Brésil: «la dette remboursée au détriment des ...   ar  \n",
       "28800  Comptes secrets: une délégation indienne va ve...   ar  \n",
       "16632  Comptes secrets: une délégation indienne va ve...   ar  \n",
       "29284                                             Genève   ar  \n",
       "29589  FISCALITÉ Bruxelles va proposer un plan de lut...   ar  \n",
       "29537  Epargne: la CEE propose une retenue à la sourc...   ar  \n",
       "30013                                  FAITS ET CHIFFRES   ar  \n",
       "17583                                  FAITS ET CHIFFRES   ar  \n",
       "29632                                  FAITS ET CHIFFRES   ar  \n",
       "17632                                  FAITS ET CHIFFRES   ar  \n",
       "29740  Petits pas des Douze vers l'intégration monéta...   ar  \n",
       "17500  La Suisse participera à une conférence sur le ...   ar  \n",
       "29794  Le groupe des Sept débat de la levée du secret...   ar  \n",
       "17391  Le groupe des Sept débat de la levée du secret...   ar  \n",
       "17404   CEE TVA: pas de changement du mode de perception   ar  \n",
       "17701  Explosion dans un complexe pétro-chîmique amér...   ar  \n",
       "29808  ÉTATS-UNIS Explosion dans un complexe pétro-ch...   ar  \n",
       "17422  Levée totale du contrôle des changes avancée e...   ar  \n",
       "29458  Levée totale du contrôle des changes avancée e...   ar  \n",
       "30071  RAPPORT Forte reprise de l'activité lnterbanca...   ar  \n",
       "30079  DROGUE Blanchiment de l'argent sale: la CEE pr...   ar  \n",
       "17731  Hausse des prix plus forte que prévue en Grand...   ar  \n",
       "30028  Brésil: le plan Collor attaque les comptes ban...   ar  \n",
       "17954  PARIS Blanchiment d'argent: projet de loi adop...   ar  \n",
       "30346  Blanchiment d'argent: projet de loi adopté en ...   ar  \n",
       "30229  OTAGES Irak: deux Suisses ont déjà obtenu leur...   ar  \n",
       "17760  OTAGES Irak: deux Suisses ont déjà obtenu leur...   ar  \n",
       "30678            Le Luxembourg s'inquiète pour son image   ar  \n",
       "30608  Arrestation de quatre personnes qui enquêtaien...   ar  \n",
       "30796  Les Kurdes bloqués à Kloten pourront demander ...   ar  \n",
       "17968                                    SECRET BANCAIRE   ar  \n",
       "30566                                      TRAFIC AERIEN   ar  \n",
       "18281  TRAFIC AERIEN L'IATA constate u n recul de 8% ...   ar  \n",
       "30657                                     GENEVE Motivée   ar  \n",
       "18241                                   GENEVE /Vlot/Vée   ar  \n",
       "18749                                           SOCIETES   ar  \n",
       "31032                                           SOCIETES   ar  \n",
       "18558              La Hongrie soucieuse de sa réputation   ar  \n",
       "31315              La Hongrie soucieuse de sa réputation   ar  \n",
       "18456   Milan demande la levée du secret bancaire suisse   ar  \n",
       "30925   Milan demande la levée du secret bancaire suisse   ar  \n",
       "18734                                               None   ar  "
      ]
     },
     "execution_count": 55,
     "metadata": {},
     "output_type": "execute_result"
    }
   ],
   "source": [
    "articles[\n",
    "    foreign_agency_indexes\n",
    "    & banking_indexes\n",
    "    & (articles.date.dt.year >= 1986)\n",
    "    & (articles.date.dt.year <= 1992)\n",
    "].sort_values(\"date\")"
   ]
  },
  {
   "cell_type": "code",
   "execution_count": null,
   "metadata": {},
   "outputs": [],
   "source": []
  }
 ],
 "metadata": {
  "kernelspec": {
   "display_name": "Python 3",
   "language": "python",
   "name": "python3"
  },
  "language_info": {
   "codemirror_mode": {
    "name": "ipython",
    "version": 3
   },
   "file_extension": ".py",
   "mimetype": "text/x-python",
   "name": "python",
   "nbconvert_exporter": "python",
   "pygments_lexer": "ipython3",
   "version": "3.6.8"
  }
 },
 "nbformat": 4,
 "nbformat_minor": 2
}
